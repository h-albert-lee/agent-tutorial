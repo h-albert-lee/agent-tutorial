{
 "cells": [
  {
   "cell_type": "code",
   "execution_count": 1,
   "id": "a0cdbcb9",
   "metadata": {},
   "outputs": [],
   "source": [
    "!pip install -q \"openai-agents[litellm]\" python-dotenv"
   ]
  },
  {
   "cell_type": "markdown",
   "id": "9178f13e",
   "metadata": {},
   "source": [
    "### OpenAI-Agent SDK 시작하기: 나만의 첫 AI 비서 만들기\n",
    "이 튜토리얼에서는 OpenAI의 Assistants API를 사용하여, 대화의 맥락을 기억하고 주어진 도구를 활용하여 질문에 답변하는 AI 비서를 직접 만들어 봅니다.\n",
    "\n",
    "### ✨ 학습 목표\n",
    "OpenAI Assistants API의 핵심 개념(Assistant, Thread, Run)을 이해합니다.\n",
    "\n",
    "도구 함수를 정의하고, OpenAI API가 요구하는 JSON 스키마로 변환하는 방법을 배웁니다.\n",
    "\n",
    "상태를 가지는(Stateful) AI 비서와 대화하는 전체 과정을 코드로 구현합니다."
   ]
  },
  {
   "cell_type": "code",
   "execution_count": 2,
   "id": "253220e9",
   "metadata": {},
   "outputs": [
    {
     "name": "stdout",
     "output_type": "stream",
     "text": [
      "✅ API 키가 성공적으로 로드되었습니다.\n"
     ]
    }
   ],
   "source": [
    "import os\n",
    "from dotenv import load_dotenv\n",
    "\n",
    "# .env 파일에서 API 키를 로드합니다.\n",
    "load_dotenv()\n",
    "\n",
    "if \"OPENAI_API_KEY\" not in os.environ:\n",
    "    print(\"⚠️ OpenAI API 키가 설정되지 않았습니다. .env 파일을 확인해주세요!\")\n",
    "else:\n",
    "    print(\"✅ API 키가 성공적으로 로드되었습니다.\")"
   ]
  },
  {
   "cell_type": "markdown",
   "id": "03b12dc2",
   "metadata": {},
   "source": [
    "### 단계 1: OpenAI Assistants API의 핵심 개념 이해하기\n",
    "OpenAI Assistants는 세 가지 주요 구성 요소로 작동합니다.\n",
    "\n",
    "#### Assistant (비서): \n",
    "특정 역할을 부여받은 AI입니다. \"너는 날씨 전문가야\"와 같은 지시사항(instructions), 사용할 수 있는 도구(tools), 그리고 LLM 모델을 설정하여 생성합니다. 한 번 만들어두면 계속 재사용할 수 있습니다.\n",
    "\n",
    "#### Thread (대화 채널): \n",
    "사용자와 Assistant가 대화하는 개별 채널입니다. 각 Thread는 고유한 대화 기록을 가지므로, 여러 사용자가 동시에 대화해도 맥락이 섞이지 않습니다.\n",
    "\n",
    "#### Run (실행): \n",
    "사용자가 Thread에 메시지를 남기면, Assistant가 그 메시지를 보고 작업을 수행하도록 지시하는 과정입니다. Assistant는 이 'Run' 과정에서 스스로 도구를 사용하거나 답변을 생성합니다."
   ]
  },
  {
   "cell_type": "code",
   "execution_count": 3,
   "id": "67c25afb",
   "metadata": {},
   "outputs": [
    {
     "name": "stdout",
     "output_type": "stream",
     "text": [
      "--- 에이전트의 최종 답변 ---\n",
      "RunResult:\n",
      "- Last agent: Agent(name=\"Haiku-bot\", ...)\n",
      "- Final output (str):\n",
      "    디지털 친구  \n",
      "    무한한 지식 속에  \n",
      "    길을 밝혀 줘\n",
      "- 1 new item(s)\n",
      "- 1 raw response(s)\n",
      "- 0 input guardrail result(s)\n",
      "- 0 output guardrail result(s)\n",
      "(See `RunResult` for more details)\n"
     ]
    }
   ],
   "source": [
    "from agents import Agent, Runner\n",
    "import asyncio\n",
    "\n",
    "# 1. Agent를 생성합니다.\n",
    "agent = Agent(\n",
    "    name=\"Haiku-bot\",\n",
    "    instructions=\"You are a helpful assistant that only responds in haikus.\",\n",
    ")\n",
    "\n",
    "# 2. 비동기 함수를 정의합니다.\n",
    "async def main():\n",
    "    result = await Runner.run(agent, \"AI 에이전트에 대한 한국어 시를 써줘\")\n",
    "    print(\"--- 에이전트의 최종 답변 ---\")\n",
    "    print(result)\n",
    "\n",
    "await main()"
   ]
  },
  {
   "cell_type": "code",
   "execution_count": 8,
   "id": "dfd9878a",
   "metadata": {},
   "outputs": [
    {
     "name": "stdout",
     "output_type": "stream",
     "text": [
      "--- 에이전트의 최종 답변 ---\n",
      "오늘 서울은 맑고 화창한 날씨입니다. ☀️\n"
     ]
    }
   ],
   "source": [
    "from agents import function_tool\n",
    "\n",
    "@function_tool\n",
    "def get_weather(city: str) -> str:\n",
    "    \"\"\"\n",
    "    주어진 도시의 현재 날씨를 알려줍니다.\n",
    "    \n",
    "    Args:\n",
    "        city (str): 날씨를 알고 싶은 도시 이름.\n",
    "    \"\"\"\n",
    "    if city == \"서울\" or city == \"Seoul\":\n",
    "        return \"맑고 화창합니다. ☀️\"\n",
    "    else:\n",
    "        return f\"{city}의 날씨는 알 수 없습니다.\"\n",
    "\n",
    "# 1. 새로운 도구를 장착한 에이전트를 생성합니다.\n",
    "tool_agent = Agent(\n",
    "    name=\"Weather-bot\",\n",
    "    instructions=\"You are a helpful agent that can check the weather.\",\n",
    "    tools=[get_weather], # 직접 만든 도구를 리스트에 담아 전달!\n",
    ")\n",
    "\n",
    "# 2. 에이전트에게 도구를 사용해야만 해결할 수 있는 질문을 던집니다.\n",
    "async def main_tool():\n",
    "    result = await Runner.run(tool_agent, \"오늘 서울 날씨 어때?\")\n",
    "    print(\"--- 에이전트의 최종 답변 ---\")\n",
    "    print(result.final_output)\n",
    "\n",
    "await main_tool()"
   ]
  },
  {
   "cell_type": "code",
   "execution_count": 10,
   "id": "9a4eefd5",
   "metadata": {},
   "outputs": [
    {
     "name": "stdout",
     "output_type": "stream",
     "text": [
      "--- 에이전트의 최종 답변 ---\n",
      "2025년 현재 대한민국의 총인구는 약 5,200만 명으로 추정됩니다. ([seo.goover.ai](https://seo.goover.ai/report/202503/go-public-report-ko-9dd1a8f1-17bb-4014-8bb2-cd7ccd82df5a-0-0.html?utm_source=openai)) 그러나 저출산과 고령화로 인해 인구 감소가 지속될 것으로 예상되며, 통계청의 예측에 따르면 2072년에는 인구가 약 3,600만 명으로 줄어들 것으로 보입니다. ([seo.goover.ai](https://seo.goover.ai/report/202412/go-public-report-ko-b29fe432-1c74-435a-9a61-e54ad96ded71-0-0.html?utm_source=openai)) \n"
     ]
    }
   ],
   "source": [
    "from agents import WebSearchTool\n",
    "\n",
    "# 1. WebSearchTool을 장착한 에이전트를 생성합니다.\n",
    "search_agent = Agent(\n",
    "    name=\"Search-bot\",\n",
    "    instructions=\"You are a helpful agent that searches the web.\",\n",
    "    tools=[WebSearchTool()],\n",
    ")\n",
    "\n",
    "# 2. 에이전트에게 웹 검색이 필요한 질문을 합니다.\n",
    "async def main_search():\n",
    "    result = await Runner.run(search_agent, \"한국의 현재 인구는 몇 명인가요?\")\n",
    "    print(\"--- 에이전트의 최종 답변 ---\")\n",
    "    print(result.final_output)\n",
    "\n",
    "await main_search()"
   ]
  },
  {
   "cell_type": "code",
   "execution_count": 14,
   "id": "66f4c225",
   "metadata": {},
   "outputs": [
    {
     "name": "stdout",
     "output_type": "stream",
     "text": [
      "--- 날씨 질문 테스트 ---\n",
      "질문: 오늘 서울 날씨 알려줘\n",
      "답변: 오늘 서울의 날씨는 맑고 화창합니다. ☀️\n",
      "\n",
      "--- 수학 질문 테스트 ---\n",
      "질문: 1234 * 5678은 얼마야?\n",
      "답변: 1234 * 5678은 7,006,652입니다.\n"
     ]
    }
   ],
   "source": [
    "import asyncio\n",
    "from agents import Agent, Runner, function_tool\n",
    "\n",
    "# --- 1. 전문가 에이전트(Specialists) 생성 ---\n",
    "\n",
    "# Weather Agent를 위한 도구\n",
    "@function_tool\n",
    "def get_weather(city: str) -> str:\n",
    "    \"\"\"주어진 도시의 현재 날씨를 알려줍니다.\"\"\"\n",
    "    if \"서울\" in city:\n",
    "        return \"맑고 화창합니다. ☀️\"\n",
    "    else:\n",
    "        return f\"{city}의 날씨는 알 수 없습니다.\"\n",
    "\n",
    "# 날씨 전문가\n",
    "weather_agent = Agent(\n",
    "    name=\"Weather-Specialist\",\n",
    "    instructions=\"날씨에 관한 질문에 답변합니다.\",\n",
    "    tools=[get_weather],\n",
    ")\n",
    "\n",
    "# 수학 전문가\n",
    "math_agent = Agent(\n",
    "    name=\"Math-Specialist\",\n",
    "    instructions=\"수학 질문을 풀고 답변합니다.\",\n",
    ")\n",
    "\n",
    "\n",
    "# --- 2. 라우터(Router) 에이전트 생성 ---\n",
    "# as_tool()에 이름과 설명을 명확히 지정해줍니다.\n",
    "\n",
    "ROUTER_INSTRUCTIONS = \"\"\"\n",
    "You are a router. Your job is to analyze the user's query and call the appropriate specialist tool to answer it.\n",
    "\"\"\"\n",
    "\n",
    "router_agent = Agent(\n",
    "    name=\"Router\",\n",
    "    instructions=ROUTER_INSTRUCTIONS,\n",
    "    tools=[\n",
    "        weather_agent.as_tool(\n",
    "            tool_name=\"Weather_Specialist\",  # 도구 이름 지정\n",
    "            tool_description=\"날씨에 관련된 질문을 처리하려면 이 전문가를 호출하세요.\" # 도구 설명 지정\n",
    "        ),\n",
    "        math_agent.as_tool(\n",
    "            tool_name=\"Math_Specialist\", # 도구 이름 지정\n",
    "            tool_description=\"수학 문제나 계산이 필요하면 이 전문가를 호출하세요.\" # 도구 설명 지정\n",
    "        ),\n",
    "    ],\n",
    ")\n",
    "\n",
    "\n",
    "# --- 3. 에이전트 시스템 실행 ---\n",
    "\n",
    "async def main():\n",
    "    print(\"--- 날씨 질문 테스트 ---\")\n",
    "    weather_query = \"오늘 서울 날씨 알려줘\"\n",
    "    weather_result = await Runner.run(router_agent, weather_query)\n",
    "    print(f\"질문: {weather_query}\")\n",
    "    print(f\"답변: {weather_result.final_output}\\n\")\n",
    "\n",
    "    print(\"--- 수학 질문 테스트 ---\")\n",
    "    math_query = \"1234 * 5678은 얼마야?\"\n",
    "    math_result = await Runner.run(router_agent, math_query)\n",
    "    print(f\"질문: {math_query}\")\n",
    "    print(f\"답변: {math_result.final_output}\")\n",
    "\n",
    "# 주피터 노트북 환경이므로 await로 실행\n",
    "await main()"
   ]
  }
 ],
 "metadata": {
  "kernelspec": {
   "display_name": "hret",
   "language": "python",
   "name": "python3"
  },
  "language_info": {
   "codemirror_mode": {
    "name": "ipython",
    "version": 3
   },
   "file_extension": ".py",
   "mimetype": "text/x-python",
   "name": "python",
   "nbconvert_exporter": "python",
   "pygments_lexer": "ipython3",
   "version": "3.12.8"
  }
 },
 "nbformat": 4,
 "nbformat_minor": 5
}
