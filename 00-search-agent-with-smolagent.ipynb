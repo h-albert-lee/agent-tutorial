{
 "cells": [
  {
   "cell_type": "code",
   "execution_count": 3,
   "id": "a05a435c",
   "metadata": {},
   "outputs": [],
   "source": [
    "!pip install -q \"smolagents[litellm]\" python-dotenv duckduckgo-search"
   ]
  },
  {
   "cell_type": "code",
   "execution_count": 2,
   "id": "18083c4d",
   "metadata": {},
   "outputs": [
    {
     "name": "stdout",
     "output_type": "stream",
     "text": [
      "✅ API 키가 성공적으로 로드되었습니다.\n"
     ]
    }
   ],
   "source": [
    "import os\n",
    "from dotenv import load_dotenv\n",
    "\n",
    "# .env 파일을 만들어 OPENAI_API_KEY=\"sk-...\" 형식으로 키를 저장해주세요.\n",
    "load_dotenv()\n",
    "\n",
    "if \"OPENAI_API_KEY\" not in os.environ:\n",
    "    print(\"⚠️ OpenAI API 키가 설정되지 않았습니다. .env 파일을 확인해주세요!\")\n",
    "else:\n",
    "    print(\"✅ API 키가 성공적으로 로드되었습니다.\")"
   ]
  },
  {
   "cell_type": "markdown",
   "id": "a4746756",
   "metadata": {},
   "source": [
    "### 단계 1: Agent의 두 종류 이해하기\n",
    "smol-agent에는 두 가지 주요 Agent 클래스가 있습니다.\n",
    "\n",
    "#### CodeAgent 🤖 (프로그래머 Agent)\n",
    "\n",
    "작동 방식: 도구를 사용하기 위해 Python 코드를 직접 생성하고 실행합니다.\n",
    "\n",
    "장점: 반복문, 조건문 등 복잡한 로직을 수행할 수 있고, 여러 도구의 결과를 조합하는 등 유연성이 매우 높습니다.\n",
    "\n",
    "단점: 코드를 직접 실행하므로 보안에 유의해야 합니다.\n",
    "\n",
    "언제 사용?: 여러 단계를 거쳐야 하는 문제 해결, 데이터 처리, 동적인 작업이 필요할 때 적합합니다.\n",
    "\n",
    "#### ToolCallingAgent 📞 (도구 사용 Agent)\n",
    "\n",
    "작동 방식: 도구를 호출하기 위해 JSON 형식의 구조화된 데이터를 생성합니다.\n",
    "\n",
    "장점: 정해진 형식으로만 도구를 호출하므로 매우 안정적이고 안전합니다.\n",
    "\n",
    "단점: 코드를 실행할 수 없어 복잡한 로직이나 유연한 작업은 어렵습니다.\n",
    "\n",
    "언제 사용?: 단순한 API 호출, 문서 조회 등 예측 가능한 작업을 안정적으로 수행할 때 적합합니다."
   ]
  },
  {
   "cell_type": "markdown",
   "id": "dee10fc4",
   "metadata": {},
   "source": [
    "### CodeAgent 만들고 실행하기\n",
    "\n",
    "피보나치 수열을 계산하는 간단한 임무를 통해 CodeAgent를 만들어 보겠습니다. 이 Agent는 Python 코드를 생성하여 계산을 수행할 것입니다."
   ]
  },
  {
   "cell_type": "code",
   "execution_count": 3,
   "id": "8f6f5970",
   "metadata": {},
   "outputs": [
    {
     "name": "stdout",
     "output_type": "stream",
     "text": [
      "✅ 나의 첫 CodeAgent가 생성되었습니다!\n"
     ]
    }
   ],
   "source": [
    "from smolagents import CodeAgent, LiteLLMModel\n",
    "\n",
    "# 1. Agent의 두뇌가 될 LLM 모델을 선택합니다.\n",
    "#    'gpt-4o' 외에도 'gpt-4.1-mini' 등 다양한 모델을 쓸 수 있습니다.\n",
    "model = LiteLLMModel(model_id=\"gpt-4.1-mini\")\n",
    "\n",
    "# 2. CodeAgent를 생성합니다.\n",
    "#    - tools=[]: 아직 우리만의 도구는 없으므로 빈 리스트를 전달합니다.\n",
    "#    - add_base_tools=True: 'smol-agent'가 기본으로 제공하는 도구(수학 계산 등)를 추가합니다.\n",
    "agent = CodeAgent(\n",
    "    model=model,\n",
    "    tools=[], \n",
    "    add_base_tools=True,\n",
    ")\n",
    "\n",
    "print(\"✅ 나의 첫 CodeAgent가 생성되었습니다!\")"
   ]
  },
  {
   "cell_type": "code",
   "execution_count": 4,
   "id": "a4ce8b31",
   "metadata": {},
   "outputs": [
    {
     "data": {
      "text/html": [
       "<pre style=\"white-space:pre;overflow-x:auto;line-height:normal;font-family:Menlo,'DejaVu Sans Mono',consolas,'Courier New',monospace\"><span style=\"color: #d4b702; text-decoration-color: #d4b702\">╭──────────────────────────────────────────────────── </span><span style=\"color: #d4b702; text-decoration-color: #d4b702; font-weight: bold\">New run</span><span style=\"color: #d4b702; text-decoration-color: #d4b702\"> ────────────────────────────────────────────────────╮</span>\n",
       "<span style=\"color: #d4b702; text-decoration-color: #d4b702\">│</span>                                                                                                                 <span style=\"color: #d4b702; text-decoration-color: #d4b702\">│</span>\n",
       "<span style=\"color: #d4b702; text-decoration-color: #d4b702\">│</span> <span style=\"font-weight: bold\">피보나치 수열의 20번째 숫자는 무엇인가요?</span>                                                                       <span style=\"color: #d4b702; text-decoration-color: #d4b702\">│</span>\n",
       "<span style=\"color: #d4b702; text-decoration-color: #d4b702\">│</span>                                                                                                                 <span style=\"color: #d4b702; text-decoration-color: #d4b702\">│</span>\n",
       "<span style=\"color: #d4b702; text-decoration-color: #d4b702\">╰─ LiteLLMModel - gpt-4.1-mini ───────────────────────────────────────────────────────────────────────────────────╯</span>\n",
       "</pre>\n"
      ],
      "text/plain": [
       "\u001b[38;2;212;183;2m╭─\u001b[0m\u001b[38;2;212;183;2m───────────────────────────────────────────────────\u001b[0m\u001b[38;2;212;183;2m \u001b[0m\u001b[1;38;2;212;183;2mNew run\u001b[0m\u001b[38;2;212;183;2m \u001b[0m\u001b[38;2;212;183;2m───────────────────────────────────────────────────\u001b[0m\u001b[38;2;212;183;2m─╮\u001b[0m\n",
       "\u001b[38;2;212;183;2m│\u001b[0m                                                                                                                 \u001b[38;2;212;183;2m│\u001b[0m\n",
       "\u001b[38;2;212;183;2m│\u001b[0m \u001b[1m피보나치 수열의 20번째 숫자는 무엇인가요?\u001b[0m                                                                       \u001b[38;2;212;183;2m│\u001b[0m\n",
       "\u001b[38;2;212;183;2m│\u001b[0m                                                                                                                 \u001b[38;2;212;183;2m│\u001b[0m\n",
       "\u001b[38;2;212;183;2m╰─\u001b[0m\u001b[38;2;212;183;2m LiteLLMModel - gpt-4.1-mini \u001b[0m\u001b[38;2;212;183;2m──────────────────────────────────────────────────────────────────────────────────\u001b[0m\u001b[38;2;212;183;2m─╯\u001b[0m\n"
      ]
     },
     "metadata": {},
     "output_type": "display_data"
    },
    {
     "data": {
      "text/html": [
       "<pre style=\"white-space:pre;overflow-x:auto;line-height:normal;font-family:Menlo,'DejaVu Sans Mono',consolas,'Courier New',monospace\"><span style=\"color: #d4b702; text-decoration-color: #d4b702\">━━━━━━━━━━━━━━━━━━━━━━━━━━━━━━━━━━━━━━━━━━━━━━━━━━━━━ </span><span style=\"font-weight: bold\">Step </span><span style=\"color: #008080; text-decoration-color: #008080; font-weight: bold\">1</span><span style=\"color: #d4b702; text-decoration-color: #d4b702\"> ━━━━━━━━━━━━━━━━━━━━━━━━━━━━━━━━━━━━━━━━━━━━━━━━━━━━━━</span>\n",
       "</pre>\n"
      ],
      "text/plain": [
       "\u001b[38;2;212;183;2m━━━━━━━━━━━━━━━━━━━━━━━━━━━━━━━━━━━━━━━━━━━━━━━━━━━━━ \u001b[0m\u001b[1mStep \u001b[0m\u001b[1;36m1\u001b[0m\u001b[38;2;212;183;2m ━━━━━━━━━━━━━━━━━━━━━━━━━━━━━━━━━━━━━━━━━━━━━━━━━━━━━━\u001b[0m\n"
      ]
     },
     "metadata": {},
     "output_type": "display_data"
    },
    {
     "data": {
      "text/html": [
       "<pre style=\"white-space:pre;overflow-x:auto;line-height:normal;font-family:Menlo,'DejaVu Sans Mono',consolas,'Courier New',monospace\"> ─ <span style=\"font-weight: bold\">Executing parsed code:</span> ──────────────────────────────────────────────────────────────────────────────────────── \n",
       "  <span style=\"color: #66d9ef; text-decoration-color: #66d9ef; background-color: #272822\">def</span><span style=\"color: #f8f8f2; text-decoration-color: #f8f8f2; background-color: #272822\"> </span><span style=\"color: #a6e22e; text-decoration-color: #a6e22e; background-color: #272822\">fibonacci</span><span style=\"color: #f8f8f2; text-decoration-color: #f8f8f2; background-color: #272822\">(n: int) </span><span style=\"color: #ff4689; text-decoration-color: #ff4689; background-color: #272822\">-&gt;</span><span style=\"color: #f8f8f2; text-decoration-color: #f8f8f2; background-color: #272822\"> int:</span><span style=\"background-color: #272822\">                                                                                  </span>  \n",
       "  <span style=\"color: #f8f8f2; text-decoration-color: #f8f8f2; background-color: #272822\">    </span><span style=\"color: #66d9ef; text-decoration-color: #66d9ef; background-color: #272822\">if</span><span style=\"color: #f8f8f2; text-decoration-color: #f8f8f2; background-color: #272822\"> n </span><span style=\"color: #ff4689; text-decoration-color: #ff4689; background-color: #272822\">==</span><span style=\"color: #f8f8f2; text-decoration-color: #f8f8f2; background-color: #272822\"> </span><span style=\"color: #ae81ff; text-decoration-color: #ae81ff; background-color: #272822\">0</span><span style=\"color: #f8f8f2; text-decoration-color: #f8f8f2; background-color: #272822\">:</span><span style=\"background-color: #272822\">                                                                                                 </span>  \n",
       "  <span style=\"color: #f8f8f2; text-decoration-color: #f8f8f2; background-color: #272822\">        </span><span style=\"color: #66d9ef; text-decoration-color: #66d9ef; background-color: #272822\">return</span><span style=\"color: #f8f8f2; text-decoration-color: #f8f8f2; background-color: #272822\"> </span><span style=\"color: #ae81ff; text-decoration-color: #ae81ff; background-color: #272822\">0</span><span style=\"background-color: #272822\">                                                                                               </span>  \n",
       "  <span style=\"color: #f8f8f2; text-decoration-color: #f8f8f2; background-color: #272822\">    </span><span style=\"color: #66d9ef; text-decoration-color: #66d9ef; background-color: #272822\">elif</span><span style=\"color: #f8f8f2; text-decoration-color: #f8f8f2; background-color: #272822\"> n </span><span style=\"color: #ff4689; text-decoration-color: #ff4689; background-color: #272822\">==</span><span style=\"color: #f8f8f2; text-decoration-color: #f8f8f2; background-color: #272822\"> </span><span style=\"color: #ae81ff; text-decoration-color: #ae81ff; background-color: #272822\">1</span><span style=\"color: #f8f8f2; text-decoration-color: #f8f8f2; background-color: #272822\">:</span><span style=\"background-color: #272822\">                                                                                               </span>  \n",
       "  <span style=\"color: #f8f8f2; text-decoration-color: #f8f8f2; background-color: #272822\">        </span><span style=\"color: #66d9ef; text-decoration-color: #66d9ef; background-color: #272822\">return</span><span style=\"color: #f8f8f2; text-decoration-color: #f8f8f2; background-color: #272822\"> </span><span style=\"color: #ae81ff; text-decoration-color: #ae81ff; background-color: #272822\">1</span><span style=\"background-color: #272822\">                                                                                               </span>  \n",
       "  <span style=\"color: #f8f8f2; text-decoration-color: #f8f8f2; background-color: #272822\">    a, b </span><span style=\"color: #ff4689; text-decoration-color: #ff4689; background-color: #272822\">=</span><span style=\"color: #f8f8f2; text-decoration-color: #f8f8f2; background-color: #272822\"> </span><span style=\"color: #ae81ff; text-decoration-color: #ae81ff; background-color: #272822\">0</span><span style=\"color: #f8f8f2; text-decoration-color: #f8f8f2; background-color: #272822\">, </span><span style=\"color: #ae81ff; text-decoration-color: #ae81ff; background-color: #272822\">1</span><span style=\"background-color: #272822\">                                                                                                </span>  \n",
       "  <span style=\"color: #f8f8f2; text-decoration-color: #f8f8f2; background-color: #272822\">    </span><span style=\"color: #66d9ef; text-decoration-color: #66d9ef; background-color: #272822\">for</span><span style=\"color: #f8f8f2; text-decoration-color: #f8f8f2; background-color: #272822\"> _ </span><span style=\"color: #ff4689; text-decoration-color: #ff4689; background-color: #272822\">in</span><span style=\"color: #f8f8f2; text-decoration-color: #f8f8f2; background-color: #272822\"> range(</span><span style=\"color: #ae81ff; text-decoration-color: #ae81ff; background-color: #272822\">2</span><span style=\"color: #f8f8f2; text-decoration-color: #f8f8f2; background-color: #272822\">, n</span><span style=\"color: #ff4689; text-decoration-color: #ff4689; background-color: #272822\">+</span><span style=\"color: #ae81ff; text-decoration-color: #ae81ff; background-color: #272822\">1</span><span style=\"color: #f8f8f2; text-decoration-color: #f8f8f2; background-color: #272822\">):</span><span style=\"background-color: #272822\">                                                                                    </span>  \n",
       "  <span style=\"color: #f8f8f2; text-decoration-color: #f8f8f2; background-color: #272822\">        a, b </span><span style=\"color: #ff4689; text-decoration-color: #ff4689; background-color: #272822\">=</span><span style=\"color: #f8f8f2; text-decoration-color: #f8f8f2; background-color: #272822\"> b, a </span><span style=\"color: #ff4689; text-decoration-color: #ff4689; background-color: #272822\">+</span><span style=\"color: #f8f8f2; text-decoration-color: #f8f8f2; background-color: #272822\"> b</span><span style=\"background-color: #272822\">                                                                                        </span>  \n",
       "  <span style=\"color: #f8f8f2; text-decoration-color: #f8f8f2; background-color: #272822\">    </span><span style=\"color: #66d9ef; text-decoration-color: #66d9ef; background-color: #272822\">return</span><span style=\"color: #f8f8f2; text-decoration-color: #f8f8f2; background-color: #272822\"> b</span><span style=\"background-color: #272822\">                                                                                                   </span>  \n",
       "  <span style=\"background-color: #272822\">                                                                                                               </span>  \n",
       "  <span style=\"color: #f8f8f2; text-decoration-color: #f8f8f2; background-color: #272822\">fib_20 </span><span style=\"color: #ff4689; text-decoration-color: #ff4689; background-color: #272822\">=</span><span style=\"color: #f8f8f2; text-decoration-color: #f8f8f2; background-color: #272822\"> fibonacci(</span><span style=\"color: #ae81ff; text-decoration-color: #ae81ff; background-color: #272822\">20</span><span style=\"color: #f8f8f2; text-decoration-color: #f8f8f2; background-color: #272822\">)</span><span style=\"background-color: #272822\">                                                                                         </span>  \n",
       "  <span style=\"color: #f8f8f2; text-decoration-color: #f8f8f2; background-color: #272822\">final_answer(fib_20)</span><span style=\"background-color: #272822\">                                                                                           </span>  \n",
       " ───────────────────────────────────────────────────────────────────────────────────────────────────────────────── \n",
       "</pre>\n"
      ],
      "text/plain": [
       " ─ \u001b[1mExecuting parsed code:\u001b[0m ──────────────────────────────────────────────────────────────────────────────────────── \n",
       "  \u001b[38;2;102;217;239;48;2;39;40;34mdef\u001b[0m\u001b[38;2;248;248;242;48;2;39;40;34m \u001b[0m\u001b[38;2;166;226;46;48;2;39;40;34mfibonacci\u001b[0m\u001b[38;2;248;248;242;48;2;39;40;34m(\u001b[0m\u001b[38;2;248;248;242;48;2;39;40;34mn\u001b[0m\u001b[38;2;248;248;242;48;2;39;40;34m:\u001b[0m\u001b[38;2;248;248;242;48;2;39;40;34m \u001b[0m\u001b[38;2;248;248;242;48;2;39;40;34mint\u001b[0m\u001b[38;2;248;248;242;48;2;39;40;34m)\u001b[0m\u001b[38;2;248;248;242;48;2;39;40;34m \u001b[0m\u001b[38;2;255;70;137;48;2;39;40;34m-\u001b[0m\u001b[38;2;255;70;137;48;2;39;40;34m>\u001b[0m\u001b[38;2;248;248;242;48;2;39;40;34m \u001b[0m\u001b[38;2;248;248;242;48;2;39;40;34mint\u001b[0m\u001b[38;2;248;248;242;48;2;39;40;34m:\u001b[0m\u001b[48;2;39;40;34m                                                                                  \u001b[0m  \n",
       "  \u001b[38;2;248;248;242;48;2;39;40;34m    \u001b[0m\u001b[38;2;102;217;239;48;2;39;40;34mif\u001b[0m\u001b[38;2;248;248;242;48;2;39;40;34m \u001b[0m\u001b[38;2;248;248;242;48;2;39;40;34mn\u001b[0m\u001b[38;2;248;248;242;48;2;39;40;34m \u001b[0m\u001b[38;2;255;70;137;48;2;39;40;34m==\u001b[0m\u001b[38;2;248;248;242;48;2;39;40;34m \u001b[0m\u001b[38;2;174;129;255;48;2;39;40;34m0\u001b[0m\u001b[38;2;248;248;242;48;2;39;40;34m:\u001b[0m\u001b[48;2;39;40;34m                                                                                                 \u001b[0m  \n",
       "  \u001b[38;2;248;248;242;48;2;39;40;34m        \u001b[0m\u001b[38;2;102;217;239;48;2;39;40;34mreturn\u001b[0m\u001b[38;2;248;248;242;48;2;39;40;34m \u001b[0m\u001b[38;2;174;129;255;48;2;39;40;34m0\u001b[0m\u001b[48;2;39;40;34m                                                                                               \u001b[0m  \n",
       "  \u001b[38;2;248;248;242;48;2;39;40;34m    \u001b[0m\u001b[38;2;102;217;239;48;2;39;40;34melif\u001b[0m\u001b[38;2;248;248;242;48;2;39;40;34m \u001b[0m\u001b[38;2;248;248;242;48;2;39;40;34mn\u001b[0m\u001b[38;2;248;248;242;48;2;39;40;34m \u001b[0m\u001b[38;2;255;70;137;48;2;39;40;34m==\u001b[0m\u001b[38;2;248;248;242;48;2;39;40;34m \u001b[0m\u001b[38;2;174;129;255;48;2;39;40;34m1\u001b[0m\u001b[38;2;248;248;242;48;2;39;40;34m:\u001b[0m\u001b[48;2;39;40;34m                                                                                               \u001b[0m  \n",
       "  \u001b[38;2;248;248;242;48;2;39;40;34m        \u001b[0m\u001b[38;2;102;217;239;48;2;39;40;34mreturn\u001b[0m\u001b[38;2;248;248;242;48;2;39;40;34m \u001b[0m\u001b[38;2;174;129;255;48;2;39;40;34m1\u001b[0m\u001b[48;2;39;40;34m                                                                                               \u001b[0m  \n",
       "  \u001b[38;2;248;248;242;48;2;39;40;34m    \u001b[0m\u001b[38;2;248;248;242;48;2;39;40;34ma\u001b[0m\u001b[38;2;248;248;242;48;2;39;40;34m,\u001b[0m\u001b[38;2;248;248;242;48;2;39;40;34m \u001b[0m\u001b[38;2;248;248;242;48;2;39;40;34mb\u001b[0m\u001b[38;2;248;248;242;48;2;39;40;34m \u001b[0m\u001b[38;2;255;70;137;48;2;39;40;34m=\u001b[0m\u001b[38;2;248;248;242;48;2;39;40;34m \u001b[0m\u001b[38;2;174;129;255;48;2;39;40;34m0\u001b[0m\u001b[38;2;248;248;242;48;2;39;40;34m,\u001b[0m\u001b[38;2;248;248;242;48;2;39;40;34m \u001b[0m\u001b[38;2;174;129;255;48;2;39;40;34m1\u001b[0m\u001b[48;2;39;40;34m                                                                                                \u001b[0m  \n",
       "  \u001b[38;2;248;248;242;48;2;39;40;34m    \u001b[0m\u001b[38;2;102;217;239;48;2;39;40;34mfor\u001b[0m\u001b[38;2;248;248;242;48;2;39;40;34m \u001b[0m\u001b[38;2;248;248;242;48;2;39;40;34m_\u001b[0m\u001b[38;2;248;248;242;48;2;39;40;34m \u001b[0m\u001b[38;2;255;70;137;48;2;39;40;34min\u001b[0m\u001b[38;2;248;248;242;48;2;39;40;34m \u001b[0m\u001b[38;2;248;248;242;48;2;39;40;34mrange\u001b[0m\u001b[38;2;248;248;242;48;2;39;40;34m(\u001b[0m\u001b[38;2;174;129;255;48;2;39;40;34m2\u001b[0m\u001b[38;2;248;248;242;48;2;39;40;34m,\u001b[0m\u001b[38;2;248;248;242;48;2;39;40;34m \u001b[0m\u001b[38;2;248;248;242;48;2;39;40;34mn\u001b[0m\u001b[38;2;255;70;137;48;2;39;40;34m+\u001b[0m\u001b[38;2;174;129;255;48;2;39;40;34m1\u001b[0m\u001b[38;2;248;248;242;48;2;39;40;34m)\u001b[0m\u001b[38;2;248;248;242;48;2;39;40;34m:\u001b[0m\u001b[48;2;39;40;34m                                                                                    \u001b[0m  \n",
       "  \u001b[38;2;248;248;242;48;2;39;40;34m        \u001b[0m\u001b[38;2;248;248;242;48;2;39;40;34ma\u001b[0m\u001b[38;2;248;248;242;48;2;39;40;34m,\u001b[0m\u001b[38;2;248;248;242;48;2;39;40;34m \u001b[0m\u001b[38;2;248;248;242;48;2;39;40;34mb\u001b[0m\u001b[38;2;248;248;242;48;2;39;40;34m \u001b[0m\u001b[38;2;255;70;137;48;2;39;40;34m=\u001b[0m\u001b[38;2;248;248;242;48;2;39;40;34m \u001b[0m\u001b[38;2;248;248;242;48;2;39;40;34mb\u001b[0m\u001b[38;2;248;248;242;48;2;39;40;34m,\u001b[0m\u001b[38;2;248;248;242;48;2;39;40;34m \u001b[0m\u001b[38;2;248;248;242;48;2;39;40;34ma\u001b[0m\u001b[38;2;248;248;242;48;2;39;40;34m \u001b[0m\u001b[38;2;255;70;137;48;2;39;40;34m+\u001b[0m\u001b[38;2;248;248;242;48;2;39;40;34m \u001b[0m\u001b[38;2;248;248;242;48;2;39;40;34mb\u001b[0m\u001b[48;2;39;40;34m                                                                                        \u001b[0m  \n",
       "  \u001b[38;2;248;248;242;48;2;39;40;34m    \u001b[0m\u001b[38;2;102;217;239;48;2;39;40;34mreturn\u001b[0m\u001b[38;2;248;248;242;48;2;39;40;34m \u001b[0m\u001b[38;2;248;248;242;48;2;39;40;34mb\u001b[0m\u001b[48;2;39;40;34m                                                                                                   \u001b[0m  \n",
       "  \u001b[48;2;39;40;34m                                                                                                               \u001b[0m  \n",
       "  \u001b[38;2;248;248;242;48;2;39;40;34mfib_20\u001b[0m\u001b[38;2;248;248;242;48;2;39;40;34m \u001b[0m\u001b[38;2;255;70;137;48;2;39;40;34m=\u001b[0m\u001b[38;2;248;248;242;48;2;39;40;34m \u001b[0m\u001b[38;2;248;248;242;48;2;39;40;34mfibonacci\u001b[0m\u001b[38;2;248;248;242;48;2;39;40;34m(\u001b[0m\u001b[38;2;174;129;255;48;2;39;40;34m20\u001b[0m\u001b[38;2;248;248;242;48;2;39;40;34m)\u001b[0m\u001b[48;2;39;40;34m                                                                                         \u001b[0m  \n",
       "  \u001b[38;2;248;248;242;48;2;39;40;34mfinal_answer\u001b[0m\u001b[38;2;248;248;242;48;2;39;40;34m(\u001b[0m\u001b[38;2;248;248;242;48;2;39;40;34mfib_20\u001b[0m\u001b[38;2;248;248;242;48;2;39;40;34m)\u001b[0m\u001b[48;2;39;40;34m                                                                                           \u001b[0m  \n",
       " ───────────────────────────────────────────────────────────────────────────────────────────────────────────────── \n"
      ]
     },
     "metadata": {},
     "output_type": "display_data"
    },
    {
     "data": {
      "text/html": [
       "<pre style=\"white-space:pre;overflow-x:auto;line-height:normal;font-family:Menlo,'DejaVu Sans Mono',consolas,'Courier New',monospace\"><span style=\"color: #d4b702; text-decoration-color: #d4b702; font-weight: bold\">Out - Final answer: 6765</span>\n",
       "</pre>\n"
      ],
      "text/plain": [
       "\u001b[1;38;2;212;183;2mOut - Final answer: 6765\u001b[0m\n"
      ]
     },
     "metadata": {},
     "output_type": "display_data"
    },
    {
     "data": {
      "text/html": [
       "<pre style=\"white-space:pre;overflow-x:auto;line-height:normal;font-family:Menlo,'DejaVu Sans Mono',consolas,'Courier New',monospace\"><span style=\"color: #7f7f7f; text-decoration-color: #7f7f7f\">[Step 1: Duration 4.40 seconds| Input tokens: 2,001 | Output tokens: 130]</span>\n",
       "</pre>\n"
      ],
      "text/plain": [
       "\u001b[2m[Step 1: Duration 4.40 seconds| Input tokens: 2,001 | Output tokens: 130]\u001b[0m\n"
      ]
     },
     "metadata": {},
     "output_type": "display_data"
    },
    {
     "name": "stdout",
     "output_type": "stream",
     "text": [
      "\n",
      "--- Agent의 최종 답변 ---\n",
      "6765\n"
     ]
    }
   ],
   "source": [
    "# Agent에게 피보나치 수열 계산을 요청합니다.\n",
    "question = \"피보나치 수열의 20번째 숫자는 무엇인가요?\"\n",
    "result = agent.run(question)\n",
    "\n",
    "print(\"\\n--- Agent의 최종 답변 ---\")\n",
    "print(result)"
   ]
  },
  {
   "cell_type": "markdown",
   "id": "b94649c2",
   "metadata": {},
   "source": [
    "### 나만의 커스텀 도구 만들기: \"허깅페이스 인기 모델 찾기\"\n",
    "\n",
    "이번에는 Agent에게 새로운 능력을 부여해 보겠습니다. 특정 분야(task)에서 가장 많이 다운로드된 허깅페이스 모델을 찾아주는 도구를 직접 만들어 봅시다.\n",
    "\n",
    "공식 문서에 나온 방법들 중, 가장 직관적인 @tool 데코레이터를 사용하는 방법으로 만들어보겠습니다."
   ]
  },
  {
   "cell_type": "code",
   "execution_count": 6,
   "id": "54632664",
   "metadata": {},
   "outputs": [
    {
     "name": "stdout",
     "output_type": "stream",
     "text": [
      "✅ 'get_most_downloaded_model' 도구가 성공적으로 생성되었습니다!\n"
     ]
    }
   ],
   "source": [
    "from smolagents import tool\n",
    "from huggingface_hub import list_models\n",
    "\n",
    "@tool\n",
    "def get_most_downloaded_model(task: str) -> str:\n",
    "    \"\"\"\n",
    "    주어진 task에 대해 허깅페이스 허브에서 가장 많이 다운로드된 모델의 ID를 반환합니다.\n",
    "    \n",
    "    Args:\n",
    "        task (str): \"text-classification\"이나 \"text-to-video\" 같은 모델의 task.\n",
    "    \"\"\"\n",
    "    most_downloaded_model = next(iter(list_models(filter=task, sort=\"downloads\", direction=-1)))\n",
    "    return most_downloaded_model.id\n",
    "\n",
    "print(\"✅ 'get_most_downloaded_model' 도구가 성공적으로 생성되었습니다!\")"
   ]
  },
  {
   "cell_type": "code",
   "execution_count": 7,
   "id": "c7555410",
   "metadata": {},
   "outputs": [
    {
     "data": {
      "text/html": [
       "<pre style=\"white-space:pre;overflow-x:auto;line-height:normal;font-family:Menlo,'DejaVu Sans Mono',consolas,'Courier New',monospace\"><span style=\"color: #d4b702; text-decoration-color: #d4b702\">╭──────────────────────────────────────────────────── </span><span style=\"color: #d4b702; text-decoration-color: #d4b702; font-weight: bold\">New run</span><span style=\"color: #d4b702; text-decoration-color: #d4b702\"> ────────────────────────────────────────────────────╮</span>\n",
       "<span style=\"color: #d4b702; text-decoration-color: #d4b702\">│</span>                                                                                                                 <span style=\"color: #d4b702; text-decoration-color: #d4b702\">│</span>\n",
       "<span style=\"color: #d4b702; text-decoration-color: #d4b702\">│</span> <span style=\"font-weight: bold\">허깅페이스 허브의 'text-to-image' task에서 가장 인기 있는 모델은 무엇인가요?</span>                                    <span style=\"color: #d4b702; text-decoration-color: #d4b702\">│</span>\n",
       "<span style=\"color: #d4b702; text-decoration-color: #d4b702\">│</span>                                                                                                                 <span style=\"color: #d4b702; text-decoration-color: #d4b702\">│</span>\n",
       "<span style=\"color: #d4b702; text-decoration-color: #d4b702\">╰─ LiteLLMModel - gpt-4.1-mini ───────────────────────────────────────────────────────────────────────────────────╯</span>\n",
       "</pre>\n"
      ],
      "text/plain": [
       "\u001b[38;2;212;183;2m╭─\u001b[0m\u001b[38;2;212;183;2m───────────────────────────────────────────────────\u001b[0m\u001b[38;2;212;183;2m \u001b[0m\u001b[1;38;2;212;183;2mNew run\u001b[0m\u001b[38;2;212;183;2m \u001b[0m\u001b[38;2;212;183;2m───────────────────────────────────────────────────\u001b[0m\u001b[38;2;212;183;2m─╮\u001b[0m\n",
       "\u001b[38;2;212;183;2m│\u001b[0m                                                                                                                 \u001b[38;2;212;183;2m│\u001b[0m\n",
       "\u001b[38;2;212;183;2m│\u001b[0m \u001b[1m허깅페이스 허브의 'text-to-image' task에서 가장 인기 있는 모델은 무엇인가요?\u001b[0m                                    \u001b[38;2;212;183;2m│\u001b[0m\n",
       "\u001b[38;2;212;183;2m│\u001b[0m                                                                                                                 \u001b[38;2;212;183;2m│\u001b[0m\n",
       "\u001b[38;2;212;183;2m╰─\u001b[0m\u001b[38;2;212;183;2m LiteLLMModel - gpt-4.1-mini \u001b[0m\u001b[38;2;212;183;2m──────────────────────────────────────────────────────────────────────────────────\u001b[0m\u001b[38;2;212;183;2m─╯\u001b[0m\n"
      ]
     },
     "metadata": {},
     "output_type": "display_data"
    },
    {
     "data": {
      "text/html": [
       "<pre style=\"white-space:pre;overflow-x:auto;line-height:normal;font-family:Menlo,'DejaVu Sans Mono',consolas,'Courier New',monospace\"><span style=\"color: #d4b702; text-decoration-color: #d4b702\">━━━━━━━━━━━━━━━━━━━━━━━━━━━━━━━━━━━━━━━━━━━━━━━━━━━━━ </span><span style=\"font-weight: bold\">Step </span><span style=\"color: #008080; text-decoration-color: #008080; font-weight: bold\">1</span><span style=\"color: #d4b702; text-decoration-color: #d4b702\"> ━━━━━━━━━━━━━━━━━━━━━━━━━━━━━━━━━━━━━━━━━━━━━━━━━━━━━━</span>\n",
       "</pre>\n"
      ],
      "text/plain": [
       "\u001b[38;2;212;183;2m━━━━━━━━━━━━━━━━━━━━━━━━━━━━━━━━━━━━━━━━━━━━━━━━━━━━━ \u001b[0m\u001b[1mStep \u001b[0m\u001b[1;36m1\u001b[0m\u001b[38;2;212;183;2m ━━━━━━━━━━━━━━━━━━━━━━━━━━━━━━━━━━━━━━━━━━━━━━━━━━━━━━\u001b[0m\n"
      ]
     },
     "metadata": {},
     "output_type": "display_data"
    },
    {
     "data": {
      "text/html": [
       "<pre style=\"white-space:pre;overflow-x:auto;line-height:normal;font-family:Menlo,'DejaVu Sans Mono',consolas,'Courier New',monospace\"> ─ <span style=\"font-weight: bold\">Executing parsed code:</span> ──────────────────────────────────────────────────────────────────────────────────────── \n",
       "  <span style=\"color: #f8f8f2; text-decoration-color: #f8f8f2; background-color: #272822\">most_popular_text_to_image_model </span><span style=\"color: #ff4689; text-decoration-color: #ff4689; background-color: #272822\">=</span><span style=\"color: #f8f8f2; text-decoration-color: #f8f8f2; background-color: #272822\"> get_most_downloaded_model(task</span><span style=\"color: #ff4689; text-decoration-color: #ff4689; background-color: #272822\">=</span><span style=\"color: #e6db74; text-decoration-color: #e6db74; background-color: #272822\">\"text-to-image\"</span><span style=\"color: #f8f8f2; text-decoration-color: #f8f8f2; background-color: #272822\">)</span><span style=\"background-color: #272822\">                             </span>  \n",
       "  <span style=\"color: #f8f8f2; text-decoration-color: #f8f8f2; background-color: #272822\">final_answer(most_popular_text_to_image_model)</span><span style=\"background-color: #272822\">                                                                 </span>  \n",
       " ───────────────────────────────────────────────────────────────────────────────────────────────────────────────── \n",
       "</pre>\n"
      ],
      "text/plain": [
       " ─ \u001b[1mExecuting parsed code:\u001b[0m ──────────────────────────────────────────────────────────────────────────────────────── \n",
       "  \u001b[38;2;248;248;242;48;2;39;40;34mmost_popular_text_to_image_model\u001b[0m\u001b[38;2;248;248;242;48;2;39;40;34m \u001b[0m\u001b[38;2;255;70;137;48;2;39;40;34m=\u001b[0m\u001b[38;2;248;248;242;48;2;39;40;34m \u001b[0m\u001b[38;2;248;248;242;48;2;39;40;34mget_most_downloaded_model\u001b[0m\u001b[38;2;248;248;242;48;2;39;40;34m(\u001b[0m\u001b[38;2;248;248;242;48;2;39;40;34mtask\u001b[0m\u001b[38;2;255;70;137;48;2;39;40;34m=\u001b[0m\u001b[38;2;230;219;116;48;2;39;40;34m\"\u001b[0m\u001b[38;2;230;219;116;48;2;39;40;34mtext-to-image\u001b[0m\u001b[38;2;230;219;116;48;2;39;40;34m\"\u001b[0m\u001b[38;2;248;248;242;48;2;39;40;34m)\u001b[0m\u001b[48;2;39;40;34m                             \u001b[0m  \n",
       "  \u001b[38;2;248;248;242;48;2;39;40;34mfinal_answer\u001b[0m\u001b[38;2;248;248;242;48;2;39;40;34m(\u001b[0m\u001b[38;2;248;248;242;48;2;39;40;34mmost_popular_text_to_image_model\u001b[0m\u001b[38;2;248;248;242;48;2;39;40;34m)\u001b[0m\u001b[48;2;39;40;34m                                                                 \u001b[0m  \n",
       " ───────────────────────────────────────────────────────────────────────────────────────────────────────────────── \n"
      ]
     },
     "metadata": {},
     "output_type": "display_data"
    },
    {
     "data": {
      "text/html": [
       "<pre style=\"white-space:pre;overflow-x:auto;line-height:normal;font-family:Menlo,'DejaVu Sans Mono',consolas,'Courier New',monospace\"><span style=\"color: #d4b702; text-decoration-color: #d4b702; font-weight: bold\">Out - Final answer: CompVis/stable-diffusion-v1-4</span>\n",
       "</pre>\n"
      ],
      "text/plain": [
       "\u001b[1;38;2;212;183;2mOut - Final answer: CompVis/stable-diffusion-v1-4\u001b[0m\n"
      ]
     },
     "metadata": {},
     "output_type": "display_data"
    },
    {
     "data": {
      "text/html": [
       "<pre style=\"white-space:pre;overflow-x:auto;line-height:normal;font-family:Menlo,'DejaVu Sans Mono',consolas,'Courier New',monospace\"><span style=\"color: #7f7f7f; text-decoration-color: #7f7f7f\">[Step 1: Duration 5.16 seconds| Input tokens: 1,971 | Output tokens: 93]</span>\n",
       "</pre>\n"
      ],
      "text/plain": [
       "\u001b[2m[Step 1: Duration 5.16 seconds| Input tokens: 1,971 | Output tokens: 93]\u001b[0m\n"
      ]
     },
     "metadata": {},
     "output_type": "display_data"
    },
    {
     "name": "stdout",
     "output_type": "stream",
     "text": [
      "\n",
      "--- Agent의 최종 답변 ---\n",
      "CompVis/stable-diffusion-v1-4\n"
     ]
    }
   ],
   "source": [
    "# 1. 새로운 도구를 장착한 Agent를 생성합니다.\n",
    "tool_agent = CodeAgent(\n",
    "    model=model,\n",
    "    tools=[get_most_downloaded_model], # 직접 만든 도구를 리스트에 담아 전달!\n",
    ")\n",
    "\n",
    "# 2. Agent에게 새로운 도구를 사용해야만 해결할 수 있는 질문을 던집니다.\n",
    "question = \"허깅페이스 허브의 'text-to-image' task에서 가장 인기 있는 모델은 무엇인가요?\"\n",
    "result = tool_agent.run(question)\n",
    "\n",
    "print(\"\\n--- Agent의 최종 답변 ---\")\n",
    "print(result)"
   ]
  },
  {
   "cell_type": "markdown",
   "id": "c0a3a627",
   "metadata": {},
   "source": [
    "## 간단히 웹 검색 에이전트를 만들어 보고 싶다면?\n",
    "\n",
    "Google search를 이용한 방법도 뒤에는 배울거지만, 가장 쉬운 사용 방법은 DuckDuckGoSearchTool를 이용하는 것."
   ]
  },
  {
   "cell_type": "code",
   "execution_count": 9,
   "id": "03a57624",
   "metadata": {},
   "outputs": [
    {
     "data": {
      "text/html": [
       "<pre style=\"white-space:pre;overflow-x:auto;line-height:normal;font-family:Menlo,'DejaVu Sans Mono',consolas,'Courier New',monospace\"><span style=\"color: #d4b702; text-decoration-color: #d4b702\">╭──────────────────────────────────────────────────── </span><span style=\"color: #d4b702; text-decoration-color: #d4b702; font-weight: bold\">New run</span><span style=\"color: #d4b702; text-decoration-color: #d4b702\"> ────────────────────────────────────────────────────╮</span>\n",
       "<span style=\"color: #d4b702; text-decoration-color: #d4b702\">│</span>                                                                                                                 <span style=\"color: #d4b702; text-decoration-color: #d4b702\">│</span>\n",
       "<span style=\"color: #d4b702; text-decoration-color: #d4b702\">│</span> <span style=\"font-weight: bold\">지금 서울 날씨는?</span>                                                                                               <span style=\"color: #d4b702; text-decoration-color: #d4b702\">│</span>\n",
       "<span style=\"color: #d4b702; text-decoration-color: #d4b702\">│</span>                                                                                                                 <span style=\"color: #d4b702; text-decoration-color: #d4b702\">│</span>\n",
       "<span style=\"color: #d4b702; text-decoration-color: #d4b702\">╰─ LiteLLMModel - gpt-4.1-mini ───────────────────────────────────────────────────────────────────────────────────╯</span>\n",
       "</pre>\n"
      ],
      "text/plain": [
       "\u001b[38;2;212;183;2m╭─\u001b[0m\u001b[38;2;212;183;2m───────────────────────────────────────────────────\u001b[0m\u001b[38;2;212;183;2m \u001b[0m\u001b[1;38;2;212;183;2mNew run\u001b[0m\u001b[38;2;212;183;2m \u001b[0m\u001b[38;2;212;183;2m───────────────────────────────────────────────────\u001b[0m\u001b[38;2;212;183;2m─╮\u001b[0m\n",
       "\u001b[38;2;212;183;2m│\u001b[0m                                                                                                                 \u001b[38;2;212;183;2m│\u001b[0m\n",
       "\u001b[38;2;212;183;2m│\u001b[0m \u001b[1m지금 서울 날씨는?\u001b[0m                                                                                               \u001b[38;2;212;183;2m│\u001b[0m\n",
       "\u001b[38;2;212;183;2m│\u001b[0m                                                                                                                 \u001b[38;2;212;183;2m│\u001b[0m\n",
       "\u001b[38;2;212;183;2m╰─\u001b[0m\u001b[38;2;212;183;2m LiteLLMModel - gpt-4.1-mini \u001b[0m\u001b[38;2;212;183;2m──────────────────────────────────────────────────────────────────────────────────\u001b[0m\u001b[38;2;212;183;2m─╯\u001b[0m\n"
      ]
     },
     "metadata": {},
     "output_type": "display_data"
    },
    {
     "data": {
      "text/html": [
       "<pre style=\"white-space:pre;overflow-x:auto;line-height:normal;font-family:Menlo,'DejaVu Sans Mono',consolas,'Courier New',monospace\"><span style=\"color: #d4b702; text-decoration-color: #d4b702\">━━━━━━━━━━━━━━━━━━━━━━━━━━━━━━━━━━━━━━━━━━━━━━━━━━━━━ </span><span style=\"font-weight: bold\">Step </span><span style=\"color: #008080; text-decoration-color: #008080; font-weight: bold\">1</span><span style=\"color: #d4b702; text-decoration-color: #d4b702\"> ━━━━━━━━━━━━━━━━━━━━━━━━━━━━━━━━━━━━━━━━━━━━━━━━━━━━━━</span>\n",
       "</pre>\n"
      ],
      "text/plain": [
       "\u001b[38;2;212;183;2m━━━━━━━━━━━━━━━━━━━━━━━━━━━━━━━━━━━━━━━━━━━━━━━━━━━━━ \u001b[0m\u001b[1mStep \u001b[0m\u001b[1;36m1\u001b[0m\u001b[38;2;212;183;2m ━━━━━━━━━━━━━━━━━━━━━━━━━━━━━━━━━━━━━━━━━━━━━━━━━━━━━━\u001b[0m\n"
      ]
     },
     "metadata": {},
     "output_type": "display_data"
    },
    {
     "data": {
      "text/html": [
       "<pre style=\"white-space:pre;overflow-x:auto;line-height:normal;font-family:Menlo,'DejaVu Sans Mono',consolas,'Courier New',monospace\"> ─ <span style=\"font-weight: bold\">Executing parsed code:</span> ──────────────────────────────────────────────────────────────────────────────────────── \n",
       "  <span style=\"color: #f8f8f2; text-decoration-color: #f8f8f2; background-color: #272822\">search_result </span><span style=\"color: #ff4689; text-decoration-color: #ff4689; background-color: #272822\">=</span><span style=\"color: #f8f8f2; text-decoration-color: #f8f8f2; background-color: #272822\"> web_search(query</span><span style=\"color: #ff4689; text-decoration-color: #ff4689; background-color: #272822\">=</span><span style=\"color: #e6db74; text-decoration-color: #e6db74; background-color: #272822\">\"current weather in Seoul\"</span><span style=\"color: #f8f8f2; text-decoration-color: #f8f8f2; background-color: #272822\">)</span><span style=\"background-color: #272822\">                                                   </span>  \n",
       "  <span style=\"color: #f8f8f2; text-decoration-color: #f8f8f2; background-color: #272822\">print(search_result)</span><span style=\"background-color: #272822\">                                                                                           </span>  \n",
       " ───────────────────────────────────────────────────────────────────────────────────────────────────────────────── \n",
       "</pre>\n"
      ],
      "text/plain": [
       " ─ \u001b[1mExecuting parsed code:\u001b[0m ──────────────────────────────────────────────────────────────────────────────────────── \n",
       "  \u001b[38;2;248;248;242;48;2;39;40;34msearch_result\u001b[0m\u001b[38;2;248;248;242;48;2;39;40;34m \u001b[0m\u001b[38;2;255;70;137;48;2;39;40;34m=\u001b[0m\u001b[38;2;248;248;242;48;2;39;40;34m \u001b[0m\u001b[38;2;248;248;242;48;2;39;40;34mweb_search\u001b[0m\u001b[38;2;248;248;242;48;2;39;40;34m(\u001b[0m\u001b[38;2;248;248;242;48;2;39;40;34mquery\u001b[0m\u001b[38;2;255;70;137;48;2;39;40;34m=\u001b[0m\u001b[38;2;230;219;116;48;2;39;40;34m\"\u001b[0m\u001b[38;2;230;219;116;48;2;39;40;34mcurrent weather in Seoul\u001b[0m\u001b[38;2;230;219;116;48;2;39;40;34m\"\u001b[0m\u001b[38;2;248;248;242;48;2;39;40;34m)\u001b[0m\u001b[48;2;39;40;34m                                                   \u001b[0m  \n",
       "  \u001b[38;2;248;248;242;48;2;39;40;34mprint\u001b[0m\u001b[38;2;248;248;242;48;2;39;40;34m(\u001b[0m\u001b[38;2;248;248;242;48;2;39;40;34msearch_result\u001b[0m\u001b[38;2;248;248;242;48;2;39;40;34m)\u001b[0m\u001b[48;2;39;40;34m                                                                                           \u001b[0m  \n",
       " ───────────────────────────────────────────────────────────────────────────────────────────────────────────────── \n"
      ]
     },
     "metadata": {},
     "output_type": "display_data"
    },
    {
     "data": {
      "text/html": [
       "<pre style=\"white-space:pre;overflow-x:auto;line-height:normal;font-family:Menlo,'DejaVu Sans Mono',consolas,'Courier New',monospace\"><span style=\"font-weight: bold\">Execution logs:</span>\n",
       "## Search Results\n",
       "\n",
       "[Current 뜻과 예시 - 네이버 블로그](https://blog.naver.com/PostView.nhn?blogId=engram_blog&amp;logNo=223314942024)\n",
       "원어민들은 current를 어떻게 사용하나요? Current의 사용 예시는 아래와 같습니다. '현재의'일 때 The current situation \n",
       "requires immediate attention. (현재 상황은 즉각적인 주의를 필요로 한다.) We discussed the …\n",
       "\n",
       "[current 뜻 - current 한국어 뜻 - iChaCha사전](https://ko.ichacha.net/english/current.html)\n",
       "occurring in or belonging to the present time; \"current events\"; \"the current topic\"; \"current negotiations\"; \n",
       "\"current psychoanalytic theories\"; \"the ship''s current position\"\n",
       "\n",
       "[CURRENT | 영어를 한국어로 번역: Cambridge \n",
       "Dictionary](https://dictionary.cambridge.org/ko/사전/영어-한국어/current)\n",
       "CURRENT 번역: 현재의, 기류, 전류. Cambridge 영어-한국어 사전 에서 자세히 알아보기.\n",
       "\n",
       "[current 뜻 - 영어 사전 | current 해석과 발음 및 문장 사용 예 - \n",
       "fatLingo](http://www.fatlingo.com/translate.php?set_id=11&amp;section_id=25&amp;lang=kor&amp;word=current)\n",
       "영어단어 current 의 뜻은 다음과 같습니다. 현재의. 사용 예와 해석은 아래와 같습니다.\n",
       "\n",
       "[current - WordReference 영-한 사전](https://www.wordreference.com/enko/current)\n",
       "구글 번역의 기계 번역을 볼 용어: current 다른 언어로: 스페인어 | 불어 | 이탈리아어 | 포르투갈어 | 루마니아어 | \n",
       "독일어 | 네덜란드어 | 스웨덴어 | 러시아어 | 폴란드어 | 체코어 | 그리스어 | 터키어 | 중국어 | 일본어 | 아랍어\n",
       "\n",
       "[current의 다양한 뜻 - 네이버 블로그](https://m.blog.naver.com/ne5korea/206336008)\n",
       "Mar 16, 2014 · ① 현대의, 지금의, 현행의 We enclosed our current price list with the letter. (현 시세표를 편지에 \n",
       "동봉했습니다.) ② 통용되는 That word is no longer current in the United States. (그 말은 미국에서는 …\n",
       "\n",
       "[current: 뜻과 사용법 살펴보기 | RedKiwi Words](https://redkiwiapp.com/ko/english-guide/words/current)\n",
       "current [ˈkʌrənt] 라는 용어는 '현재 상황은 즉각적인 조치를 요구한다'와 같이 현재에 속하는 것을 가리킨다. 또한 '강의\n",
       "흐름이 너무 강해서 헤엄칠 수 없었다'에서와 같이 물, 공기 또는 전기의 흐름을 설명할 수도 있습니다.\n",
       "\n",
       "[Current 뜻과 예시 - Engram](https://blog-ko.engram.us/current-meaning/)\n",
       "Jan 7, 2024 · Current는 맥락에 따라 형용사로는 '현재의', 명사로는 ' (물이나 공기의) 흐름', '전류', ' (사람들 \n",
       "사이의) 경향'을 의미합니다. 각각의 자세한 의미와 예시는 아래와 같습니다.\n",
       "\n",
       "[current 뜻 - 영어 사전 | current 의미 해석 - wordow.com](https://ko.wordow.com/english/dictionary/current)\n",
       "에서 한국어 내부, 우리는 어떻게 설명 할current영어 단어 그것은? current영어 단어는 다음과 같은 의미를 한국어 :현재.\n",
       "Meaning of current for the defined word. 문법적으로, 이 워드 \"current\" 는 형용사. 그것은 또한 명사, 좀 더 …\n",
       "\n",
       "[current (【형용사】현재의, 지금의 ) 뜻, 용법, 그리고 예문 | Engoo \n",
       "Words](https://engoo.co.kr/app/words/word/current/zga0ELstQmCjlQAAAABfHQ)\n",
       "\"current\"와 관련된 레슨 교재 The journal Current Biology published their findings. Current Biology 저널은 그들의 \n",
       "연구 결과를 발표했다.\n",
       "\n",
       "Out: None\n",
       "</pre>\n"
      ],
      "text/plain": [
       "\u001b[1mExecution logs:\u001b[0m\n",
       "## Search Results\n",
       "\n",
       "[Current 뜻과 예시 - 네이버 블로그](https://blog.naver.com/PostView.nhn?blogId=engram_blog&logNo=223314942024)\n",
       "원어민들은 current를 어떻게 사용하나요? Current의 사용 예시는 아래와 같습니다. '현재의'일 때 The current situation \n",
       "requires immediate attention. (현재 상황은 즉각적인 주의를 필요로 한다.) We discussed the …\n",
       "\n",
       "[current 뜻 - current 한국어 뜻 - iChaCha사전](https://ko.ichacha.net/english/current.html)\n",
       "occurring in or belonging to the present time; \"current events\"; \"the current topic\"; \"current negotiations\"; \n",
       "\"current psychoanalytic theories\"; \"the ship''s current position\"\n",
       "\n",
       "[CURRENT | 영어를 한국어로 번역: Cambridge \n",
       "Dictionary](https://dictionary.cambridge.org/ko/사전/영어-한국어/current)\n",
       "CURRENT 번역: 현재의, 기류, 전류. Cambridge 영어-한국어 사전 에서 자세히 알아보기.\n",
       "\n",
       "[current 뜻 - 영어 사전 | current 해석과 발음 및 문장 사용 예 - \n",
       "fatLingo](http://www.fatlingo.com/translate.php?set_id=11&section_id=25&lang=kor&word=current)\n",
       "영어단어 current 의 뜻은 다음과 같습니다. 현재의. 사용 예와 해석은 아래와 같습니다.\n",
       "\n",
       "[current - WordReference 영-한 사전](https://www.wordreference.com/enko/current)\n",
       "구글 번역의 기계 번역을 볼 용어: current 다른 언어로: 스페인어 | 불어 | 이탈리아어 | 포르투갈어 | 루마니아어 | \n",
       "독일어 | 네덜란드어 | 스웨덴어 | 러시아어 | 폴란드어 | 체코어 | 그리스어 | 터키어 | 중국어 | 일본어 | 아랍어\n",
       "\n",
       "[current의 다양한 뜻 - 네이버 블로그](https://m.blog.naver.com/ne5korea/206336008)\n",
       "Mar 16, 2014 · ① 현대의, 지금의, 현행의 We enclosed our current price list with the letter. (현 시세표를 편지에 \n",
       "동봉했습니다.) ② 통용되는 That word is no longer current in the United States. (그 말은 미국에서는 …\n",
       "\n",
       "[current: 뜻과 사용법 살펴보기 | RedKiwi Words](https://redkiwiapp.com/ko/english-guide/words/current)\n",
       "current [ˈkʌrənt] 라는 용어는 '현재 상황은 즉각적인 조치를 요구한다'와 같이 현재에 속하는 것을 가리킨다. 또한 '강의\n",
       "흐름이 너무 강해서 헤엄칠 수 없었다'에서와 같이 물, 공기 또는 전기의 흐름을 설명할 수도 있습니다.\n",
       "\n",
       "[Current 뜻과 예시 - Engram](https://blog-ko.engram.us/current-meaning/)\n",
       "Jan 7, 2024 · Current는 맥락에 따라 형용사로는 '현재의', 명사로는 ' (물이나 공기의) 흐름', '전류', ' (사람들 \n",
       "사이의) 경향'을 의미합니다. 각각의 자세한 의미와 예시는 아래와 같습니다.\n",
       "\n",
       "[current 뜻 - 영어 사전 | current 의미 해석 - wordow.com](https://ko.wordow.com/english/dictionary/current)\n",
       "에서 한국어 내부, 우리는 어떻게 설명 할current영어 단어 그것은? current영어 단어는 다음과 같은 의미를 한국어 :현재.\n",
       "Meaning of current for the defined word. 문법적으로, 이 워드 \"current\" 는 형용사. 그것은 또한 명사, 좀 더 …\n",
       "\n",
       "[current (【형용사】현재의, 지금의 ) 뜻, 용법, 그리고 예문 | Engoo \n",
       "Words](https://engoo.co.kr/app/words/word/current/zga0ELstQmCjlQAAAABfHQ)\n",
       "\"current\"와 관련된 레슨 교재 The journal Current Biology published their findings. Current Biology 저널은 그들의 \n",
       "연구 결과를 발표했다.\n",
       "\n",
       "Out: None\n"
      ]
     },
     "metadata": {},
     "output_type": "display_data"
    },
    {
     "data": {
      "text/html": [
       "<pre style=\"white-space:pre;overflow-x:auto;line-height:normal;font-family:Menlo,'DejaVu Sans Mono',consolas,'Courier New',monospace\"><span style=\"color: #7f7f7f; text-decoration-color: #7f7f7f\">[Step 1: Duration 2.91 seconds| Input tokens: 1,941 | Output tokens: 57]</span>\n",
       "</pre>\n"
      ],
      "text/plain": [
       "\u001b[2m[Step 1: Duration 2.91 seconds| Input tokens: 1,941 | Output tokens: 57]\u001b[0m\n"
      ]
     },
     "metadata": {},
     "output_type": "display_data"
    },
    {
     "data": {
      "text/html": [
       "<pre style=\"white-space:pre;overflow-x:auto;line-height:normal;font-family:Menlo,'DejaVu Sans Mono',consolas,'Courier New',monospace\"><span style=\"color: #d4b702; text-decoration-color: #d4b702\">━━━━━━━━━━━━━━━━━━━━━━━━━━━━━━━━━━━━━━━━━━━━━━━━━━━━━ </span><span style=\"font-weight: bold\">Step </span><span style=\"color: #008080; text-decoration-color: #008080; font-weight: bold\">2</span><span style=\"color: #d4b702; text-decoration-color: #d4b702\"> ━━━━━━━━━━━━━━━━━━━━━━━━━━━━━━━━━━━━━━━━━━━━━━━━━━━━━━</span>\n",
       "</pre>\n"
      ],
      "text/plain": [
       "\u001b[38;2;212;183;2m━━━━━━━━━━━━━━━━━━━━━━━━━━━━━━━━━━━━━━━━━━━━━━━━━━━━━ \u001b[0m\u001b[1mStep \u001b[0m\u001b[1;36m2\u001b[0m\u001b[38;2;212;183;2m ━━━━━━━━━━━━━━━━━━━━━━━━━━━━━━━━━━━━━━━━━━━━━━━━━━━━━━\u001b[0m\n"
      ]
     },
     "metadata": {},
     "output_type": "display_data"
    },
    {
     "data": {
      "text/html": [
       "<pre style=\"white-space:pre;overflow-x:auto;line-height:normal;font-family:Menlo,'DejaVu Sans Mono',consolas,'Courier New',monospace\"> ─ <span style=\"font-weight: bold\">Executing parsed code:</span> ──────────────────────────────────────────────────────────────────────────────────────── \n",
       "  <span style=\"color: #f8f8f2; text-decoration-color: #f8f8f2; background-color: #272822\">weather_info </span><span style=\"color: #ff4689; text-decoration-color: #ff4689; background-color: #272822\">=</span><span style=\"color: #f8f8f2; text-decoration-color: #f8f8f2; background-color: #272822\"> web_search(query</span><span style=\"color: #ff4689; text-decoration-color: #ff4689; background-color: #272822\">=</span><span style=\"color: #e6db74; text-decoration-color: #e6db74; background-color: #272822\">\"Seoul weather current temperature and conditions\"</span><span style=\"color: #f8f8f2; text-decoration-color: #f8f8f2; background-color: #272822\">)</span><span style=\"background-color: #272822\">                            </span>  \n",
       "  <span style=\"color: #f8f8f2; text-decoration-color: #f8f8f2; background-color: #272822\">print(weather_info)</span><span style=\"background-color: #272822\">                                                                                            </span>  \n",
       " ───────────────────────────────────────────────────────────────────────────────────────────────────────────────── \n",
       "</pre>\n"
      ],
      "text/plain": [
       " ─ \u001b[1mExecuting parsed code:\u001b[0m ──────────────────────────────────────────────────────────────────────────────────────── \n",
       "  \u001b[38;2;248;248;242;48;2;39;40;34mweather_info\u001b[0m\u001b[38;2;248;248;242;48;2;39;40;34m \u001b[0m\u001b[38;2;255;70;137;48;2;39;40;34m=\u001b[0m\u001b[38;2;248;248;242;48;2;39;40;34m \u001b[0m\u001b[38;2;248;248;242;48;2;39;40;34mweb_search\u001b[0m\u001b[38;2;248;248;242;48;2;39;40;34m(\u001b[0m\u001b[38;2;248;248;242;48;2;39;40;34mquery\u001b[0m\u001b[38;2;255;70;137;48;2;39;40;34m=\u001b[0m\u001b[38;2;230;219;116;48;2;39;40;34m\"\u001b[0m\u001b[38;2;230;219;116;48;2;39;40;34mSeoul weather current temperature and conditions\u001b[0m\u001b[38;2;230;219;116;48;2;39;40;34m\"\u001b[0m\u001b[38;2;248;248;242;48;2;39;40;34m)\u001b[0m\u001b[48;2;39;40;34m                            \u001b[0m  \n",
       "  \u001b[38;2;248;248;242;48;2;39;40;34mprint\u001b[0m\u001b[38;2;248;248;242;48;2;39;40;34m(\u001b[0m\u001b[38;2;248;248;242;48;2;39;40;34mweather_info\u001b[0m\u001b[38;2;248;248;242;48;2;39;40;34m)\u001b[0m\u001b[48;2;39;40;34m                                                                                            \u001b[0m  \n",
       " ───────────────────────────────────────────────────────────────────────────────────────────────────────────────── \n"
      ]
     },
     "metadata": {},
     "output_type": "display_data"
    },
    {
     "data": {
      "text/html": [
       "<pre style=\"white-space:pre;overflow-x:auto;line-height:normal;font-family:Menlo,'DejaVu Sans Mono',consolas,'Courier New',monospace\"><span style=\"font-weight: bold\">Execution logs:</span>\n",
       "## Search Results\n",
       "\n",
       "[서울특별시 - 동행·매력 특별시 서울](http://seoul.go.kr/)\n",
       "Nov 4, 2024 · 대표전화: 02-120 또는 02-731-2120 (365일 24시간 운영/유료 ) © Seoul Metropolitan Government all \n",
       "rights reserved\n",
       "\n",
       "[Seoul - Wikipedia](https://en.wikipedia.org/wiki/Seoul)\n",
       "1 day ago · Although Seoul's population peaked at over 10 million, it has gradually decreased since 2014, standing \n",
       "at about 9.6 million residents as of 2024. [4] Seoul is the seat of the South …\n",
       "\n",
       "[Official Website of the Seoul Metropolitan Government](https://english.seoul.go.kr/)\n",
       "The Official Website of Seoul. You can view a wealth of information about the city, including the main policies, \n",
       "history, culture, tourism, metropolitan experience, medical welfare, transportation, …\n",
       "\n",
       "[Welcome to Seoul, Visit Seoul | The Official Travel Guide to Seoul](https://english.visitseoul.net/)\n",
       "Visit Seoul is the perfect city tour guide for traveling to Seoul. Experience Seoul in various ways from K-food to \n",
       "cafes and festivals.\n",
       "\n",
       "[Official Website of the Seoul](https://world.seoul.go.kr/home/)\n",
       "Welcome to the official website of the Seoul Metropolitan Government. Find information about policies, public \n",
       "facilities and cultural events of Seoul.\n",
       "\n",
       "[분야별 정보 메인 &lt; 서울특별시](https://news.seoul.go.kr/)\n",
       "서울특별시 8개 분야별(주택, 경제, 교통, 환경, 복지, 안전, 문화, 행정) 정보 제공\n",
       "\n",
       "[Welcome to Seoul - Visit Seoul | The Official Travel Guide to Seoul](https://www.visitseoul.net/)\n",
       "Gather various information on Seoul with Visit Seoul: Attractions, food alleys, accommodations, and other \n",
       "information. 한국어 · English · 日本語 · 简体中文 · 繁體中文 · русский язык.\n",
       "\n",
       "[서울관광의 모든 것, Visit Seoul | 서울 공식 관광정보 웹사이트](https://korean.visitseoul.net/)\n",
       "다양한 서울 여행 정보를 만나보세요. 서울의 명소, 맛집, 카페, 호텔, 축제, 공연, 에디터 추천 여행 등 서울의 놀거리. \n",
       "교통, 가이드북, 지도 등 여행 시 필요한 유용한 서울관광정보를 서울관광재단 Visit Seoul이 제공합니다.\n",
       "\n",
       "[Seoul : VISITKOREA](https://english.visitkorea.or.kr/svc/contents/infoHtmlView.do?menuSn=650&amp;vcontsId=194735)\n",
       "Apr 25, 2024 · Seoul, a trendsetter in Korea, is an ideal shopping destination, boasting numerous department \n",
       "stores, shopping malls, outlets, and duty-free shops. Enjoy shopping in distinctive …\n",
       "\n",
       "[서울소개 | 서울특별시](https://www.seoul.go.kr/seoul/seoul.do)\n",
       "Jan 22, 2021 · 조직도, 자치구, 찾아오시는 길, 청사안내, 서울의 상징, 서울의 역사, 서울정보, 서울시청 선수단 \n",
       "소개등의 정보 제공\n",
       "\n",
       "Out: None\n",
       "</pre>\n"
      ],
      "text/plain": [
       "\u001b[1mExecution logs:\u001b[0m\n",
       "## Search Results\n",
       "\n",
       "[서울특별시 - 동행·매력 특별시 서울](http://seoul.go.kr/)\n",
       "Nov 4, 2024 · 대표전화: 02-120 또는 02-731-2120 (365일 24시간 운영/유료 ) © Seoul Metropolitan Government all \n",
       "rights reserved\n",
       "\n",
       "[Seoul - Wikipedia](https://en.wikipedia.org/wiki/Seoul)\n",
       "1 day ago · Although Seoul's population peaked at over 10 million, it has gradually decreased since 2014, standing \n",
       "at about 9.6 million residents as of 2024. [4] Seoul is the seat of the South …\n",
       "\n",
       "[Official Website of the Seoul Metropolitan Government](https://english.seoul.go.kr/)\n",
       "The Official Website of Seoul. You can view a wealth of information about the city, including the main policies, \n",
       "history, culture, tourism, metropolitan experience, medical welfare, transportation, …\n",
       "\n",
       "[Welcome to Seoul, Visit Seoul | The Official Travel Guide to Seoul](https://english.visitseoul.net/)\n",
       "Visit Seoul is the perfect city tour guide for traveling to Seoul. Experience Seoul in various ways from K-food to \n",
       "cafes and festivals.\n",
       "\n",
       "[Official Website of the Seoul](https://world.seoul.go.kr/home/)\n",
       "Welcome to the official website of the Seoul Metropolitan Government. Find information about policies, public \n",
       "facilities and cultural events of Seoul.\n",
       "\n",
       "[분야별 정보 메인 < 서울특별시](https://news.seoul.go.kr/)\n",
       "서울특별시 8개 분야별(주택, 경제, 교통, 환경, 복지, 안전, 문화, 행정) 정보 제공\n",
       "\n",
       "[Welcome to Seoul - Visit Seoul | The Official Travel Guide to Seoul](https://www.visitseoul.net/)\n",
       "Gather various information on Seoul with Visit Seoul: Attractions, food alleys, accommodations, and other \n",
       "information. 한국어 · English · 日本語 · 简体中文 · 繁體中文 · русский язык.\n",
       "\n",
       "[서울관광의 모든 것, Visit Seoul | 서울 공식 관광정보 웹사이트](https://korean.visitseoul.net/)\n",
       "다양한 서울 여행 정보를 만나보세요. 서울의 명소, 맛집, 카페, 호텔, 축제, 공연, 에디터 추천 여행 등 서울의 놀거리. \n",
       "교통, 가이드북, 지도 등 여행 시 필요한 유용한 서울관광정보를 서울관광재단 Visit Seoul이 제공합니다.\n",
       "\n",
       "[Seoul : VISITKOREA](https://english.visitkorea.or.kr/svc/contents/infoHtmlView.do?menuSn=650&vcontsId=194735)\n",
       "Apr 25, 2024 · Seoul, a trendsetter in Korea, is an ideal shopping destination, boasting numerous department \n",
       "stores, shopping malls, outlets, and duty-free shops. Enjoy shopping in distinctive …\n",
       "\n",
       "[서울소개 | 서울특별시](https://www.seoul.go.kr/seoul/seoul.do)\n",
       "Jan 22, 2021 · 조직도, 자치구, 찾아오시는 길, 청사안내, 서울의 상징, 서울의 역사, 서울정보, 서울시청 선수단 \n",
       "소개등의 정보 제공\n",
       "\n",
       "Out: None\n"
      ]
     },
     "metadata": {},
     "output_type": "display_data"
    },
    {
     "data": {
      "text/html": [
       "<pre style=\"white-space:pre;overflow-x:auto;line-height:normal;font-family:Menlo,'DejaVu Sans Mono',consolas,'Courier New',monospace\"><span style=\"color: #7f7f7f; text-decoration-color: #7f7f7f\">[Step 2: Duration 3.53 seconds| Input tokens: 4,881 | Output tokens: 124]</span>\n",
       "</pre>\n"
      ],
      "text/plain": [
       "\u001b[2m[Step 2: Duration 3.53 seconds| Input tokens: 4,881 | Output tokens: 124]\u001b[0m\n"
      ]
     },
     "metadata": {},
     "output_type": "display_data"
    },
    {
     "data": {
      "text/html": [
       "<pre style=\"white-space:pre;overflow-x:auto;line-height:normal;font-family:Menlo,'DejaVu Sans Mono',consolas,'Courier New',monospace\"><span style=\"color: #d4b702; text-decoration-color: #d4b702\">━━━━━━━━━━━━━━━━━━━━━━━━━━━━━━━━━━━━━━━━━━━━━━━━━━━━━ </span><span style=\"font-weight: bold\">Step </span><span style=\"color: #008080; text-decoration-color: #008080; font-weight: bold\">3</span><span style=\"color: #d4b702; text-decoration-color: #d4b702\"> ━━━━━━━━━━━━━━━━━━━━━━━━━━━━━━━━━━━━━━━━━━━━━━━━━━━━━━</span>\n",
       "</pre>\n"
      ],
      "text/plain": [
       "\u001b[38;2;212;183;2m━━━━━━━━━━━━━━━━━━━━━━━━━━━━━━━━━━━━━━━━━━━━━━━━━━━━━ \u001b[0m\u001b[1mStep \u001b[0m\u001b[1;36m3\u001b[0m\u001b[38;2;212;183;2m ━━━━━━━━━━━━━━━━━━━━━━━━━━━━━━━━━━━━━━━━━━━━━━━━━━━━━━\u001b[0m\n"
      ]
     },
     "metadata": {},
     "output_type": "display_data"
    },
    {
     "data": {
      "text/html": [
       "<pre style=\"white-space:pre;overflow-x:auto;line-height:normal;font-family:Menlo,'DejaVu Sans Mono',consolas,'Courier New',monospace\"> ─ <span style=\"font-weight: bold\">Executing parsed code:</span> ──────────────────────────────────────────────────────────────────────────────────────── \n",
       "  <span style=\"color: #f8f8f2; text-decoration-color: #f8f8f2; background-color: #272822\">current_weather </span><span style=\"color: #ff4689; text-decoration-color: #ff4689; background-color: #272822\">=</span><span style=\"color: #f8f8f2; text-decoration-color: #f8f8f2; background-color: #272822\"> web_search(query</span><span style=\"color: #ff4689; text-decoration-color: #ff4689; background-color: #272822\">=</span><span style=\"color: #e6db74; text-decoration-color: #e6db74; background-color: #272822\">\"current weather Seoul site:weather.com\"</span><span style=\"color: #f8f8f2; text-decoration-color: #f8f8f2; background-color: #272822\">)</span><span style=\"background-color: #272822\">                                   </span>  \n",
       "  <span style=\"color: #f8f8f2; text-decoration-color: #f8f8f2; background-color: #272822\">print(current_weather)</span><span style=\"background-color: #272822\">                                                                                         </span>  \n",
       " ───────────────────────────────────────────────────────────────────────────────────────────────────────────────── \n",
       "</pre>\n"
      ],
      "text/plain": [
       " ─ \u001b[1mExecuting parsed code:\u001b[0m ──────────────────────────────────────────────────────────────────────────────────────── \n",
       "  \u001b[38;2;248;248;242;48;2;39;40;34mcurrent_weather\u001b[0m\u001b[38;2;248;248;242;48;2;39;40;34m \u001b[0m\u001b[38;2;255;70;137;48;2;39;40;34m=\u001b[0m\u001b[38;2;248;248;242;48;2;39;40;34m \u001b[0m\u001b[38;2;248;248;242;48;2;39;40;34mweb_search\u001b[0m\u001b[38;2;248;248;242;48;2;39;40;34m(\u001b[0m\u001b[38;2;248;248;242;48;2;39;40;34mquery\u001b[0m\u001b[38;2;255;70;137;48;2;39;40;34m=\u001b[0m\u001b[38;2;230;219;116;48;2;39;40;34m\"\u001b[0m\u001b[38;2;230;219;116;48;2;39;40;34mcurrent weather Seoul site:weather.com\u001b[0m\u001b[38;2;230;219;116;48;2;39;40;34m\"\u001b[0m\u001b[38;2;248;248;242;48;2;39;40;34m)\u001b[0m\u001b[48;2;39;40;34m                                   \u001b[0m  \n",
       "  \u001b[38;2;248;248;242;48;2;39;40;34mprint\u001b[0m\u001b[38;2;248;248;242;48;2;39;40;34m(\u001b[0m\u001b[38;2;248;248;242;48;2;39;40;34mcurrent_weather\u001b[0m\u001b[38;2;248;248;242;48;2;39;40;34m)\u001b[0m\u001b[48;2;39;40;34m                                                                                         \u001b[0m  \n",
       " ───────────────────────────────────────────────────────────────────────────────────────────────────────────────── \n"
      ]
     },
     "metadata": {},
     "output_type": "display_data"
    },
    {
     "data": {
      "text/html": [
       "<pre style=\"white-space:pre;overflow-x:auto;line-height:normal;font-family:Menlo,'DejaVu Sans Mono',consolas,'Courier New',monospace\"><span style=\"font-weight: bold\">Execution logs:</span>\n",
       "## Search Results\n",
       "\n",
       "[Current 뜻과 예시 - 네이버 블로그](https://blog.naver.com/PostView.nhn?blogId=engram_blog&amp;logNo=223314942024)\n",
       "원어민들은 current를 어떻게 사용하나요? Current의 사용 예시는 아래와 같습니다. '현재의'일 때 The current situation \n",
       "requires immediate attention. (현재 상황은 즉각적인 주의를 필요로 한다.) We discussed the …\n",
       "\n",
       "[current 뜻 - current 한국어 뜻 - iChaCha사전](https://ko.ichacha.net/english/current.html)\n",
       "occurring in or belonging to the present time; \"current events\"; \"the current topic\"; \"current negotiations\"; \n",
       "\"current psychoanalytic theories\"; \"the ship''s current position\"\n",
       "\n",
       "[CURRENT | 영어를 한국어로 번역: Cambridge \n",
       "Dictionary](https://dictionary.cambridge.org/ko/사전/영어-한국어/current)\n",
       "CURRENT 번역: 현재의, 기류, 전류. Cambridge 영어-한국어 사전 에서 자세히 알아보기.\n",
       "\n",
       "[current 뜻 - 영어 사전 | current 해석과 발음 및 문장 사용 예 - \n",
       "fatLingo](http://www.fatlingo.com/translate.php?set_id=11&amp;section_id=25&amp;lang=kor&amp;word=current)\n",
       "영어단어 current 의 뜻은 다음과 같습니다. 현재의. 사용 예와 해석은 아래와 같습니다.\n",
       "\n",
       "[current - WordReference 영-한 사전](https://www.wordreference.com/enko/current)\n",
       "구글 번역의 기계 번역을 볼 용어: current 다른 언어로: 스페인어 | 불어 | 이탈리아어 | 포르투갈어 | 루마니아어 | \n",
       "독일어 | 네덜란드어 | 스웨덴어 | 러시아어 | 폴란드어 | 체코어 | 그리스어 | 터키어 | 중국어 | 일본어 | 아랍어\n",
       "\n",
       "[current의 다양한 뜻 - 네이버 블로그](https://m.blog.naver.com/ne5korea/206336008)\n",
       "Mar 16, 2014 · ① 현대의, 지금의, 현행의 We enclosed our current price list with the letter. (현 시세표를 편지에 \n",
       "동봉했습니다.) ② 통용되는 That word is no longer current in the United States. (그 말은 미국에서는 …\n",
       "\n",
       "[current: 뜻과 사용법 살펴보기 | RedKiwi Words](https://redkiwiapp.com/ko/english-guide/words/current)\n",
       "current [ˈkʌrənt] 라는 용어는 '현재 상황은 즉각적인 조치를 요구한다'와 같이 현재에 속하는 것을 가리킨다. 또한 '강의\n",
       "흐름이 너무 강해서 헤엄칠 수 없었다'에서와 같이 물, 공기 또는 전기의 흐름을 설명할 수도 있습니다.\n",
       "\n",
       "[Current 뜻과 예시 - Engram](https://blog-ko.engram.us/current-meaning/)\n",
       "Jan 7, 2024 · Current는 맥락에 따라 형용사로는 '현재의', 명사로는 ' (물이나 공기의) 흐름', '전류', ' (사람들 \n",
       "사이의) 경향'을 의미합니다. 각각의 자세한 의미와 예시는 아래와 같습니다.\n",
       "\n",
       "[current 뜻 - 영어 사전 | current 의미 해석 - wordow.com](https://ko.wordow.com/english/dictionary/current)\n",
       "에서 한국어 내부, 우리는 어떻게 설명 할current영어 단어 그것은? current영어 단어는 다음과 같은 의미를 한국어 :현재.\n",
       "Meaning of current for the defined word. 문법적으로, 이 워드 \"current\" 는 형용사. 그것은 또한 명사, 좀 더 …\n",
       "\n",
       "[current (【형용사】현재의, 지금의 ) 뜻, 용법, 그리고 예문 | Engoo \n",
       "Words](https://engoo.co.kr/app/words/word/current/zga0ELstQmCjlQAAAABfHQ)\n",
       "\"current\"와 관련된 레슨 교재 The journal Current Biology published their findings. Current Biology 저널은 그들의 \n",
       "연구 결과를 발표했다.\n",
       "\n",
       "Out: None\n",
       "</pre>\n"
      ],
      "text/plain": [
       "\u001b[1mExecution logs:\u001b[0m\n",
       "## Search Results\n",
       "\n",
       "[Current 뜻과 예시 - 네이버 블로그](https://blog.naver.com/PostView.nhn?blogId=engram_blog&logNo=223314942024)\n",
       "원어민들은 current를 어떻게 사용하나요? Current의 사용 예시는 아래와 같습니다. '현재의'일 때 The current situation \n",
       "requires immediate attention. (현재 상황은 즉각적인 주의를 필요로 한다.) We discussed the …\n",
       "\n",
       "[current 뜻 - current 한국어 뜻 - iChaCha사전](https://ko.ichacha.net/english/current.html)\n",
       "occurring in or belonging to the present time; \"current events\"; \"the current topic\"; \"current negotiations\"; \n",
       "\"current psychoanalytic theories\"; \"the ship''s current position\"\n",
       "\n",
       "[CURRENT | 영어를 한국어로 번역: Cambridge \n",
       "Dictionary](https://dictionary.cambridge.org/ko/사전/영어-한국어/current)\n",
       "CURRENT 번역: 현재의, 기류, 전류. Cambridge 영어-한국어 사전 에서 자세히 알아보기.\n",
       "\n",
       "[current 뜻 - 영어 사전 | current 해석과 발음 및 문장 사용 예 - \n",
       "fatLingo](http://www.fatlingo.com/translate.php?set_id=11&section_id=25&lang=kor&word=current)\n",
       "영어단어 current 의 뜻은 다음과 같습니다. 현재의. 사용 예와 해석은 아래와 같습니다.\n",
       "\n",
       "[current - WordReference 영-한 사전](https://www.wordreference.com/enko/current)\n",
       "구글 번역의 기계 번역을 볼 용어: current 다른 언어로: 스페인어 | 불어 | 이탈리아어 | 포르투갈어 | 루마니아어 | \n",
       "독일어 | 네덜란드어 | 스웨덴어 | 러시아어 | 폴란드어 | 체코어 | 그리스어 | 터키어 | 중국어 | 일본어 | 아랍어\n",
       "\n",
       "[current의 다양한 뜻 - 네이버 블로그](https://m.blog.naver.com/ne5korea/206336008)\n",
       "Mar 16, 2014 · ① 현대의, 지금의, 현행의 We enclosed our current price list with the letter. (현 시세표를 편지에 \n",
       "동봉했습니다.) ② 통용되는 That word is no longer current in the United States. (그 말은 미국에서는 …\n",
       "\n",
       "[current: 뜻과 사용법 살펴보기 | RedKiwi Words](https://redkiwiapp.com/ko/english-guide/words/current)\n",
       "current [ˈkʌrənt] 라는 용어는 '현재 상황은 즉각적인 조치를 요구한다'와 같이 현재에 속하는 것을 가리킨다. 또한 '강의\n",
       "흐름이 너무 강해서 헤엄칠 수 없었다'에서와 같이 물, 공기 또는 전기의 흐름을 설명할 수도 있습니다.\n",
       "\n",
       "[Current 뜻과 예시 - Engram](https://blog-ko.engram.us/current-meaning/)\n",
       "Jan 7, 2024 · Current는 맥락에 따라 형용사로는 '현재의', 명사로는 ' (물이나 공기의) 흐름', '전류', ' (사람들 \n",
       "사이의) 경향'을 의미합니다. 각각의 자세한 의미와 예시는 아래와 같습니다.\n",
       "\n",
       "[current 뜻 - 영어 사전 | current 의미 해석 - wordow.com](https://ko.wordow.com/english/dictionary/current)\n",
       "에서 한국어 내부, 우리는 어떻게 설명 할current영어 단어 그것은? current영어 단어는 다음과 같은 의미를 한국어 :현재.\n",
       "Meaning of current for the defined word. 문법적으로, 이 워드 \"current\" 는 형용사. 그것은 또한 명사, 좀 더 …\n",
       "\n",
       "[current (【형용사】현재의, 지금의 ) 뜻, 용법, 그리고 예문 | Engoo \n",
       "Words](https://engoo.co.kr/app/words/word/current/zga0ELstQmCjlQAAAABfHQ)\n",
       "\"current\"와 관련된 레슨 교재 The journal Current Biology published their findings. Current Biology 저널은 그들의 \n",
       "연구 결과를 발표했다.\n",
       "\n",
       "Out: None\n"
      ]
     },
     "metadata": {},
     "output_type": "display_data"
    },
    {
     "data": {
      "text/html": [
       "<pre style=\"white-space:pre;overflow-x:auto;line-height:normal;font-family:Menlo,'DejaVu Sans Mono',consolas,'Courier New',monospace\"><span style=\"color: #7f7f7f; text-decoration-color: #7f7f7f\">[Step 3: Duration 7.19 seconds| Input tokens: 8,608 | Output tokens: 206]</span>\n",
       "</pre>\n"
      ],
      "text/plain": [
       "\u001b[2m[Step 3: Duration 7.19 seconds| Input tokens: 8,608 | Output tokens: 206]\u001b[0m\n"
      ]
     },
     "metadata": {},
     "output_type": "display_data"
    },
    {
     "data": {
      "text/html": [
       "<pre style=\"white-space:pre;overflow-x:auto;line-height:normal;font-family:Menlo,'DejaVu Sans Mono',consolas,'Courier New',monospace\"><span style=\"color: #d4b702; text-decoration-color: #d4b702\">━━━━━━━━━━━━━━━━━━━━━━━━━━━━━━━━━━━━━━━━━━━━━━━━━━━━━ </span><span style=\"font-weight: bold\">Step </span><span style=\"color: #008080; text-decoration-color: #008080; font-weight: bold\">4</span><span style=\"color: #d4b702; text-decoration-color: #d4b702\"> ━━━━━━━━━━━━━━━━━━━━━━━━━━━━━━━━━━━━━━━━━━━━━━━━━━━━━━</span>\n",
       "</pre>\n"
      ],
      "text/plain": [
       "\u001b[38;2;212;183;2m━━━━━━━━━━━━━━━━━━━━━━━━━━━━━━━━━━━━━━━━━━━━━━━━━━━━━ \u001b[0m\u001b[1mStep \u001b[0m\u001b[1;36m4\u001b[0m\u001b[38;2;212;183;2m ━━━━━━━━━━━━━━━━━━━━━━━━━━━━━━━━━━━━━━━━━━━━━━━━━━━━━━\u001b[0m\n"
      ]
     },
     "metadata": {},
     "output_type": "display_data"
    },
    {
     "data": {
      "text/html": [
       "<pre style=\"white-space:pre;overflow-x:auto;line-height:normal;font-family:Menlo,'DejaVu Sans Mono',consolas,'Courier New',monospace\"> ─ <span style=\"font-weight: bold\">Executing parsed code:</span> ──────────────────────────────────────────────────────────────────────────────────────── \n",
       "  <span style=\"color: #f8f8f2; text-decoration-color: #f8f8f2; background-color: #272822\">weather_now </span><span style=\"color: #ff4689; text-decoration-color: #ff4689; background-color: #272822\">=</span><span style=\"color: #f8f8f2; text-decoration-color: #f8f8f2; background-color: #272822\"> web_search(query</span><span style=\"color: #ff4689; text-decoration-color: #ff4689; background-color: #272822\">=</span><span style=\"color: #e6db74; text-decoration-color: #e6db74; background-color: #272822\">\"Seoul weather now\"</span><span style=\"color: #f8f8f2; text-decoration-color: #f8f8f2; background-color: #272822\">)</span><span style=\"background-color: #272822\">                                                            </span>  \n",
       "  <span style=\"color: #f8f8f2; text-decoration-color: #f8f8f2; background-color: #272822\">print(weather_now)</span><span style=\"background-color: #272822\">                                                                                             </span>  \n",
       " ───────────────────────────────────────────────────────────────────────────────────────────────────────────────── \n",
       "</pre>\n"
      ],
      "text/plain": [
       " ─ \u001b[1mExecuting parsed code:\u001b[0m ──────────────────────────────────────────────────────────────────────────────────────── \n",
       "  \u001b[38;2;248;248;242;48;2;39;40;34mweather_now\u001b[0m\u001b[38;2;248;248;242;48;2;39;40;34m \u001b[0m\u001b[38;2;255;70;137;48;2;39;40;34m=\u001b[0m\u001b[38;2;248;248;242;48;2;39;40;34m \u001b[0m\u001b[38;2;248;248;242;48;2;39;40;34mweb_search\u001b[0m\u001b[38;2;248;248;242;48;2;39;40;34m(\u001b[0m\u001b[38;2;248;248;242;48;2;39;40;34mquery\u001b[0m\u001b[38;2;255;70;137;48;2;39;40;34m=\u001b[0m\u001b[38;2;230;219;116;48;2;39;40;34m\"\u001b[0m\u001b[38;2;230;219;116;48;2;39;40;34mSeoul weather now\u001b[0m\u001b[38;2;230;219;116;48;2;39;40;34m\"\u001b[0m\u001b[38;2;248;248;242;48;2;39;40;34m)\u001b[0m\u001b[48;2;39;40;34m                                                            \u001b[0m  \n",
       "  \u001b[38;2;248;248;242;48;2;39;40;34mprint\u001b[0m\u001b[38;2;248;248;242;48;2;39;40;34m(\u001b[0m\u001b[38;2;248;248;242;48;2;39;40;34mweather_now\u001b[0m\u001b[38;2;248;248;242;48;2;39;40;34m)\u001b[0m\u001b[48;2;39;40;34m                                                                                             \u001b[0m  \n",
       " ───────────────────────────────────────────────────────────────────────────────────────────────────────────────── \n"
      ]
     },
     "metadata": {},
     "output_type": "display_data"
    },
    {
     "data": {
      "text/html": [
       "<pre style=\"white-space:pre;overflow-x:auto;line-height:normal;font-family:Menlo,'DejaVu Sans Mono',consolas,'Courier New',monospace\"><span style=\"font-weight: bold\">Execution logs:</span>\n",
       "## Search Results\n",
       "\n",
       "[Seoul, Seoul, South Korea Weather Forecast | \n",
       "AccuWeather](https://www.accuweather.com/en/kr/seoul/226081/weather-forecast/226081)\n",
       "Seoul, Seoul, South Korea Weather Forecast, with current conditions, wind, air quality, and what to expect for the \n",
       "next 3 days.\n",
       "\n",
       "[Seoul, South Korea 14 day weather forecast - \n",
       "timeanddate.com](https://www.timeanddate.com/weather/south-korea/seoul/ext)\n",
       "Jun 27, 2025 · Currently: 25 °C. More clouds than sun. (Weather station: Seoul / Kimp'O International Airport, \n",
       "South Korea). See more current weather\n",
       "\n",
       "[서울, Seoul 일기예보 | MSN 날씨](https://www.msn.com/ko-kr/weather/forecast/in-서울,Seoul)\n",
       "Jun 13, 2025 · MSN 날씨과 (와) 함께 서울, Seoul의 오늘, 오늘 밤, 내일에 대한 정확한 시간별 예보와 함께 10일간의 \n",
       "일일 예보 및 기상 레이더를 확인하세요.\n",
       "\n",
       "[Today's Weather in Seoul - Hourly Forecast and \n",
       "Conditions](https://www.easeweather.com/asia/south-korea/seoul/today)\n",
       "1 day ago · Get the latest hourly weather updates for Seoul today. Detailed forecast including temperature, wind, \n",
       "rain, snow, and UV index. Stay informed about today's weather conditions in …\n",
       "\n",
       "[Weather today - Seoul, South Korea](https://www.weather-atlas.com/en/south-korea/seoul)\n",
       "1 day ago · Seoul, South Korea - Current temperature and weather conditions. Detailed hourly weather forecast for \n",
       "today - including weather conditions, temperature, pressure, humidity, …\n",
       "\n",
       "[Seoul, South Korea Weather Conditions | Weather Underground](https://www.wunderground.com/weather/kr/seoul)\n",
       "Jul 2, 2025 · Seoul Weather Forecasts. Weather Underground provides local &amp; long-range weather forecasts, \n",
       "weatherreports, maps &amp; tropical weather conditions for the Seoul area.\n",
       "\n",
       "[Seoul Weather Forecast - Current Conditions &amp; 7-Day Outlook](https://weather.now/cities/seoul/)\n",
       "Jun 12, 2025 · Get the latest weather forecast for Seoul, South Korea. View current conditions, hourly updates, and\n",
       "7-day weather outlook with accurate temperature, precipitation, and wind …\n",
       "\n",
       "[Yr - Seoul - Hourly weather \n",
       "forecast](https://www.yr.no/en/forecast/hourly-table/2-1835848/South+Korea/Seoul/Seoul?i=2)\n",
       "14 hours ago · Display for hour-by-hour forecast. Temp. Wind desc. Today's weather forecast for Seoul by the hour.\n",
       "\n",
       "[Today's Weather in Seoul, South Korea | GlobWeather](https://globweather.com/en/weather/seoul/south+korea/today/)\n",
       "Discover today's weather in Seoul, South Korea: updated temperature, UV index, humidity, and wind conditions. \n",
       "Hourly accuracy for local forecasts.\n",
       "\n",
       "[Seoul, Seoul, South Korea Hourly Weather | \n",
       "AccuWeather](https://www.accuweather.com/en/kr/seoul/226081/hourly-weather-forecast/226081)\n",
       "Check current conditions in Seoul, Seoul, South Korea with radar, hourly, and more.\n",
       "\n",
       "Out: None\n",
       "</pre>\n"
      ],
      "text/plain": [
       "\u001b[1mExecution logs:\u001b[0m\n",
       "## Search Results\n",
       "\n",
       "[Seoul, Seoul, South Korea Weather Forecast | \n",
       "AccuWeather](https://www.accuweather.com/en/kr/seoul/226081/weather-forecast/226081)\n",
       "Seoul, Seoul, South Korea Weather Forecast, with current conditions, wind, air quality, and what to expect for the \n",
       "next 3 days.\n",
       "\n",
       "[Seoul, South Korea 14 day weather forecast - \n",
       "timeanddate.com](https://www.timeanddate.com/weather/south-korea/seoul/ext)\n",
       "Jun 27, 2025 · Currently: 25 °C. More clouds than sun. (Weather station: Seoul / Kimp'O International Airport, \n",
       "South Korea). See more current weather\n",
       "\n",
       "[서울, Seoul 일기예보 | MSN 날씨](https://www.msn.com/ko-kr/weather/forecast/in-서울,Seoul)\n",
       "Jun 13, 2025 · MSN 날씨과 (와) 함께 서울, Seoul의 오늘, 오늘 밤, 내일에 대한 정확한 시간별 예보와 함께 10일간의 \n",
       "일일 예보 및 기상 레이더를 확인하세요.\n",
       "\n",
       "[Today's Weather in Seoul - Hourly Forecast and \n",
       "Conditions](https://www.easeweather.com/asia/south-korea/seoul/today)\n",
       "1 day ago · Get the latest hourly weather updates for Seoul today. Detailed forecast including temperature, wind, \n",
       "rain, snow, and UV index. Stay informed about today's weather conditions in …\n",
       "\n",
       "[Weather today - Seoul, South Korea](https://www.weather-atlas.com/en/south-korea/seoul)\n",
       "1 day ago · Seoul, South Korea - Current temperature and weather conditions. Detailed hourly weather forecast for \n",
       "today - including weather conditions, temperature, pressure, humidity, …\n",
       "\n",
       "[Seoul, South Korea Weather Conditions | Weather Underground](https://www.wunderground.com/weather/kr/seoul)\n",
       "Jul 2, 2025 · Seoul Weather Forecasts. Weather Underground provides local & long-range weather forecasts, \n",
       "weatherreports, maps & tropical weather conditions for the Seoul area.\n",
       "\n",
       "[Seoul Weather Forecast - Current Conditions & 7-Day Outlook](https://weather.now/cities/seoul/)\n",
       "Jun 12, 2025 · Get the latest weather forecast for Seoul, South Korea. View current conditions, hourly updates, and\n",
       "7-day weather outlook with accurate temperature, precipitation, and wind …\n",
       "\n",
       "[Yr - Seoul - Hourly weather \n",
       "forecast](https://www.yr.no/en/forecast/hourly-table/2-1835848/South+Korea/Seoul/Seoul?i=2)\n",
       "14 hours ago · Display for hour-by-hour forecast. Temp. Wind desc. Today's weather forecast for Seoul by the hour.\n",
       "\n",
       "[Today's Weather in Seoul, South Korea | GlobWeather](https://globweather.com/en/weather/seoul/south+korea/today/)\n",
       "Discover today's weather in Seoul, South Korea: updated temperature, UV index, humidity, and wind conditions. \n",
       "Hourly accuracy for local forecasts.\n",
       "\n",
       "[Seoul, Seoul, South Korea Hourly Weather | \n",
       "AccuWeather](https://www.accuweather.com/en/kr/seoul/226081/hourly-weather-forecast/226081)\n",
       "Check current conditions in Seoul, Seoul, South Korea with radar, hourly, and more.\n",
       "\n",
       "Out: None\n"
      ]
     },
     "metadata": {},
     "output_type": "display_data"
    },
    {
     "data": {
      "text/html": [
       "<pre style=\"white-space:pre;overflow-x:auto;line-height:normal;font-family:Menlo,'DejaVu Sans Mono',consolas,'Courier New',monospace\"><span style=\"color: #7f7f7f; text-decoration-color: #7f7f7f\">[Step 4: Duration 4.91 seconds| Input tokens: 13,362 | Output tokens: 297]</span>\n",
       "</pre>\n"
      ],
      "text/plain": [
       "\u001b[2m[Step 4: Duration 4.91 seconds| Input tokens: 13,362 | Output tokens: 297]\u001b[0m\n"
      ]
     },
     "metadata": {},
     "output_type": "display_data"
    },
    {
     "data": {
      "text/html": [
       "<pre style=\"white-space:pre;overflow-x:auto;line-height:normal;font-family:Menlo,'DejaVu Sans Mono',consolas,'Courier New',monospace\"><span style=\"color: #d4b702; text-decoration-color: #d4b702\">━━━━━━━━━━━━━━━━━━━━━━━━━━━━━━━━━━━━━━━━━━━━━━━━━━━━━ </span><span style=\"font-weight: bold\">Step </span><span style=\"color: #008080; text-decoration-color: #008080; font-weight: bold\">5</span><span style=\"color: #d4b702; text-decoration-color: #d4b702\"> ━━━━━━━━━━━━━━━━━━━━━━━━━━━━━━━━━━━━━━━━━━━━━━━━━━━━━━</span>\n",
       "</pre>\n"
      ],
      "text/plain": [
       "\u001b[38;2;212;183;2m━━━━━━━━━━━━━━━━━━━━━━━━━━━━━━━━━━━━━━━━━━━━━━━━━━━━━ \u001b[0m\u001b[1mStep \u001b[0m\u001b[1;36m5\u001b[0m\u001b[38;2;212;183;2m ━━━━━━━━━━━━━━━━━━━━━━━━━━━━━━━━━━━━━━━━━━━━━━━━━━━━━━\u001b[0m\n"
      ]
     },
     "metadata": {},
     "output_type": "display_data"
    },
    {
     "data": {
      "text/html": [
       "<pre style=\"white-space:pre;overflow-x:auto;line-height:normal;font-family:Menlo,'DejaVu Sans Mono',consolas,'Courier New',monospace\"> ─ <span style=\"font-weight: bold\">Executing parsed code:</span> ──────────────────────────────────────────────────────────────────────────────────────── \n",
       "  <span style=\"color: #959077; text-decoration-color: #959077; background-color: #272822\"># Extracting the relevant weather info from the search result snippet</span><span style=\"background-color: #272822\">                                          </span>  \n",
       "  <span style=\"color: #f8f8f2; text-decoration-color: #f8f8f2; background-color: #272822\">weather_summary </span><span style=\"color: #ff4689; text-decoration-color: #ff4689; background-color: #272822\">=</span><span style=\"color: #f8f8f2; text-decoration-color: #f8f8f2; background-color: #272822\"> </span><span style=\"color: #e6db74; text-decoration-color: #e6db74; background-color: #272822\">\"Currently: 25 °C. More clouds than sun.\"</span><span style=\"background-color: #272822\">                                                    </span>  \n",
       "  <span style=\"color: #f8f8f2; text-decoration-color: #f8f8f2; background-color: #272822\">final_answer(weather_summary)</span><span style=\"background-color: #272822\">                                                                                  </span>  \n",
       " ───────────────────────────────────────────────────────────────────────────────────────────────────────────────── \n",
       "</pre>\n"
      ],
      "text/plain": [
       " ─ \u001b[1mExecuting parsed code:\u001b[0m ──────────────────────────────────────────────────────────────────────────────────────── \n",
       "  \u001b[38;2;149;144;119;48;2;39;40;34m# Extracting the relevant weather info from the search result snippet\u001b[0m\u001b[48;2;39;40;34m                                          \u001b[0m  \n",
       "  \u001b[38;2;248;248;242;48;2;39;40;34mweather_summary\u001b[0m\u001b[38;2;248;248;242;48;2;39;40;34m \u001b[0m\u001b[38;2;255;70;137;48;2;39;40;34m=\u001b[0m\u001b[38;2;248;248;242;48;2;39;40;34m \u001b[0m\u001b[38;2;230;219;116;48;2;39;40;34m\"\u001b[0m\u001b[38;2;230;219;116;48;2;39;40;34mCurrently: 25 °C. More clouds than sun.\u001b[0m\u001b[38;2;230;219;116;48;2;39;40;34m\"\u001b[0m\u001b[48;2;39;40;34m                                                    \u001b[0m  \n",
       "  \u001b[38;2;248;248;242;48;2;39;40;34mfinal_answer\u001b[0m\u001b[38;2;248;248;242;48;2;39;40;34m(\u001b[0m\u001b[38;2;248;248;242;48;2;39;40;34mweather_summary\u001b[0m\u001b[38;2;248;248;242;48;2;39;40;34m)\u001b[0m\u001b[48;2;39;40;34m                                                                                  \u001b[0m  \n",
       " ───────────────────────────────────────────────────────────────────────────────────────────────────────────────── \n"
      ]
     },
     "metadata": {},
     "output_type": "display_data"
    },
    {
     "data": {
      "text/html": [
       "<pre style=\"white-space:pre;overflow-x:auto;line-height:normal;font-family:Menlo,'DejaVu Sans Mono',consolas,'Courier New',monospace\"><span style=\"color: #d4b702; text-decoration-color: #d4b702; font-weight: bold\">Out - Final answer: Currently: 25 °C. More clouds than sun.</span>\n",
       "</pre>\n"
      ],
      "text/plain": [
       "\u001b[1;38;2;212;183;2mOut - Final answer: Currently: 25 °C. More clouds than sun.\u001b[0m\n"
      ]
     },
     "metadata": {},
     "output_type": "display_data"
    },
    {
     "data": {
      "text/html": [
       "<pre style=\"white-space:pre;overflow-x:auto;line-height:normal;font-family:Menlo,'DejaVu Sans Mono',consolas,'Courier New',monospace\"><span style=\"color: #7f7f7f; text-decoration-color: #7f7f7f\">[Step 5: Duration 4.57 seconds| Input tokens: 18,944 | Output tokens: 393]</span>\n",
       "</pre>\n"
      ],
      "text/plain": [
       "\u001b[2m[Step 5: Duration 4.57 seconds| Input tokens: 18,944 | Output tokens: 393]\u001b[0m\n"
      ]
     },
     "metadata": {},
     "output_type": "display_data"
    },
    {
     "name": "stdout",
     "output_type": "stream",
     "text": [
      "Currently: 25 °C. More clouds than sun.\n"
     ]
    }
   ],
   "source": [
    "from smolagents import CodeAgent, LiteLLMModel, DuckDuckGoSearchTool\n",
    "\n",
    "model = LiteLLMModel(model_id=\"gpt-4.1-mini\")\n",
    "agent = CodeAgent(\n",
    "    tools=[DuckDuckGoSearchTool()],\n",
    "    model=model,\n",
    ")\n",
    "\n",
    "# Now the agent can search the web!\n",
    "result = agent.run(\"지금 서울 날씨는?\")\n",
    "print(result)"
   ]
  }
 ],
 "metadata": {
  "kernelspec": {
   "display_name": "hret",
   "language": "python",
   "name": "python3"
  },
  "language_info": {
   "codemirror_mode": {
    "name": "ipython",
    "version": 3
   },
   "file_extension": ".py",
   "mimetype": "text/x-python",
   "name": "python",
   "nbconvert_exporter": "python",
   "pygments_lexer": "ipython3",
   "version": "3.12.8"
  }
 },
 "nbformat": 4,
 "nbformat_minor": 5
}
